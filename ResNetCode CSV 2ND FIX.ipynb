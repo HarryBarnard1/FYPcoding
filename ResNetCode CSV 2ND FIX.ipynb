{
 "cells": [
  {
   "cell_type": "code",
   "execution_count": null,
   "metadata": {},
   "outputs": [],
   "source": [
    "#See README file to see where code is sourced from."
   ]
  },
  {
   "cell_type": "code",
   "execution_count": 29,
   "metadata": {},
   "outputs": [],
   "source": [
    "import cv2\n",
    "import numpy as np\n",
    "import os\n",
    "from keras.preprocessing.image import ImageDataGenerator\n",
    "from keras import backend as K\n",
    "import keras\n",
    "from keras.models import Sequential, Model,load_model\n",
    "#from keras.optimizers import SGD\n",
    "from keras.callbacks import EarlyStopping,ModelCheckpoint\n",
    "from keras.layers import Input, Add, Dense, Activation, ZeroPadding2D, BatchNormalization, Flatten, Conv2D, AveragePooling2D, MaxPooling2D, GlobalMaxPooling2D,MaxPool2D, Dropout\n",
    "from keras.preprocessing import image\n",
    "from keras.initializers import glorot_uniform\n",
    "from tensorflow.keras.applications.resnet50 import preprocess_input\n",
    "import pandas as pd\n",
    "from PIL import Image\n",
    "import numpy as np\n",
    "import matplotlib.pyplot as plt\n",
    "from tensorflow import keras\n",
    "import tensorflow as tf\n",
    "from sklearn.model_selection import train_test_split\n",
    "from tensorflow.keras.utils import to_categorical\n",
    "from sklearn.metrics import classification_report\n",
    "from imblearn.over_sampling import RandomOverSampler\n",
    "import scipy\n",
    "import random\n",
    "import gc\n",
    "import glob\n",
    "from keras.utils.vis_utils import plot_model\n"
   ]
  },
  {
   "cell_type": "code",
   "execution_count": 30,
   "metadata": {},
   "outputs": [],
   "source": [
    "#Read in CSV file for FER2013 data to be manipulated.\n",
    "data = pd.read_csv('/com.docker.devenvironments.code/fer2013/icml_face_data.csv')"
   ]
  },
  {
   "cell_type": "code",
   "execution_count": 31,
   "metadata": {},
   "outputs": [],
   "source": [
    "#Define which CSV data is image data and which is label data.\n",
    "pixel_data = data[' pixels']\n",
    "label_data = data['emotion']"
   ]
  },
  {
   "cell_type": "code",
   "execution_count": 32,
   "metadata": {},
   "outputs": [
    {
     "data": {
      "text/plain": [
       "35887"
      ]
     },
     "execution_count": 32,
     "metadata": {},
     "output_type": "execute_result"
    }
   ],
   "source": [
    "#Print number of images that can be generated from CSV data. \n",
    "len(label_data)"
   ]
  },
  {
   "cell_type": "code",
   "execution_count": 33,
   "metadata": {},
   "outputs": [],
   "source": [
    "#Pre-process the CSV data and reshape it into a 48x48 image.\n",
    "def preprocess_pixels(pixel_data):\n",
    "  images = []\n",
    "  for i in range(len(pixel_data)):\n",
    "    img = np.fromstring(pixel_data[i], dtype='int', sep=' ')\n",
    "    img = img.reshape(48,48,1)\n",
    "    images.append(img)\n",
    "\n",
    "  X = np.array(images)\n",
    "  return X\n",
    "\n"
   ]
  },
  {
   "cell_type": "code",
   "execution_count": 34,
   "metadata": {},
   "outputs": [],
   "source": [
    "#Duplicate data for emotion classes with lower samples, 'auto' means all will have the same number of examples.\n",
    "oversampler = RandomOverSampler(sampling_strategy='auto')\n",
    "X_over, Y_over = oversampler.fit_resample(pixel_data.values.reshape(-1,1), label_data)"
   ]
  },
  {
   "cell_type": "code",
   "execution_count": 35,
   "metadata": {},
   "outputs": [
    {
     "data": {
      "text/plain": [
       "0        70 80 82 72 58 58 60 63 54 58 60 48 89 115 121...\n",
       "1        151 150 147 155 148 133 111 140 170 174 182 15...\n",
       "2        231 212 156 164 174 138 161 173 182 200 106 38...\n",
       "3        24 32 36 30 32 23 19 20 30 41 21 22 32 34 21 1...\n",
       "4        4 0 0 0 0 0 0 0 0 0 0 0 3 15 23 28 48 50 58 84...\n",
       "                               ...                        \n",
       "62918    205 208 207 211 212 215 215 211 209 208 205 20...\n",
       "62919    165 166 168 154 137 226 236 227 217 222 178 14...\n",
       "62920    78 60 19 14 12 12 12 12 12 12 11 14 19 13 12 1...\n",
       "62921    77 40 27 21 22 25 20 31 27 17 27 42 47 55 51 4...\n",
       "62922    44 30 20 24 35 47 67 69 63 53 45 38 35 64 115 ...\n",
       "Length: 62923, dtype: object"
      ]
     },
     "execution_count": 35,
     "metadata": {},
     "output_type": "execute_result"
    }
   ],
   "source": [
    "#Test that the reshaped data fits a 48x48 image.\n",
    "X_over_series = pd.Series(X_over.flatten())\n",
    "X_over_series"
   ]
  },
  {
   "cell_type": "code",
   "execution_count": 36,
   "metadata": {},
   "outputs": [],
   "source": [
    "#Preprocess data and turn into image form.\n",
    "X = preprocess_pixels(X_over_series)\n",
    "Y = Y_over"
   ]
  },
  {
   "cell_type": "code",
   "execution_count": 37,
   "metadata": {},
   "outputs": [
    {
     "data": {
      "text/plain": [
       "(62923, 1)"
      ]
     },
     "execution_count": 37,
     "metadata": {},
     "output_type": "execute_result"
    }
   ],
   "source": [
    "Y = Y_over.values.reshape(Y.shape[0],1)\n",
    "Y.shape"
   ]
  },
  {
   "cell_type": "code",
   "execution_count": 38,
   "metadata": {},
   "outputs": [
    {
     "name": "stdout",
     "output_type": "stream",
     "text": [
      "(56630, 48, 48, 1) (56630, 1)\n"
     ]
    }
   ],
   "source": [
    "X_train, X_test, Y_train, Y_test = train_test_split(X, Y, test_size = 0.1, random_state = 45)\n",
    "print(X_train.shape, Y_train.shape)"
   ]
  },
  {
   "cell_type": "code",
   "execution_count": 39,
   "metadata": {},
   "outputs": [
    {
     "data": {
      "text/plain": [
       "<matplotlib.image.AxesImage at 0x7f70057f4940>"
      ]
     },
     "execution_count": 39,
     "metadata": {},
     "output_type": "execute_result"
    },
    {
     "data": {
      "image/png": "[encoded data removed]",
      "text/plain": [
       "<Figure size 432x288 with 1 Axes>"
      ]
     },
     "metadata": {
      "needs_background": "light"
     },
     "output_type": "display_data"
    }
   ],
   "source": [
    "#Test random image from dataset and display it to check that it has formed an image.\n",
    "plt.imshow(X[25000,:,:,0])"
   ]
  },
  {
   "cell_type": "code",
   "execution_count": 40,
   "metadata": {},
   "outputs": [],
   "source": [
    "#Identity Block\n",
    "\n",
    "def identity(X, f, filters, stage, block):\n",
    "    conv_name_base='res' + str(stage) + block + '_branch'\n",
    "    bn_name_base='bn' + str(stage) + block + '_branch'\n",
    "    F1, F2, F3 = filters\n",
    "    \n",
    "    X_shortcut = X\n",
    "\n",
    "    X = Conv2D(filters=F2, kernel_size=(1, 1), strides=(1, 1), padding='same', name=conv_name_base + '2a', kernel_initializer=glorot_uniform(seed=0))(X)\n",
    "    X = BatchNormalization(axis=3, name=bn_name_base + '2a')(X)\n",
    "    X = Activation('relu')(X)\n",
    "\n",
    "    X = Conv2D(filters=F2, kernel_size=(f, f), strides=(1, 1), padding='same', name=conv_name_base + '2b', kernel_initializer=glorot_uniform(seed=0))(X)\n",
    "    X = BatchNormalization(axis=3, name=bn_name_base + '2b')(X)\n",
    "    X = Activation('relu')(X)\n",
    "\n",
    "    X = Conv2D(filters=F3, kernel_size=(1, 1), strides=(1, 1), padding='valid', name=conv_name_base + '2c', kernel_initializer=glorot_uniform(seed=0))(X)\n",
    "    X = BatchNormalization(axis=3, name=bn_name_base + '2c')(X)\n",
    "\n",
    "    X = Add()([X, X_shortcut])# SKIP Connection\n",
    "    X = Activation('relu')(X)\n",
    "\n",
    "    return X"
   ]
  },
  {
   "cell_type": "code",
   "execution_count": 41,
   "metadata": {},
   "outputs": [],
   "source": [
    "#Convolutional Block\n",
    "\n",
    "def convolutional (X, f, filters, stage, block, s=2):\n",
    "    conv_name_base = 'res' + str(stage) + block + '_branch'\n",
    "    bn_name_base = 'bn' + str(stage) + block + '_branch'\n",
    "\n",
    "    F1, F2, F3 = filters\n",
    "\n",
    "    X_shortcut = X\n",
    "\n",
    "    X = Conv2D(filters=F1, kernel_size=(1, 1), strides=(s, s), padding='valid', name=conv_name_base + '2a', kernel_initializer=glorot_uniform(seed=0))(X)\n",
    "    X = BatchNormalization(axis=3, name=bn_name_base + '2a')(X)\n",
    "    X = Activation('relu')(X)\n",
    "\n",
    "    X = Conv2D(filters=F2, kernel_size=(f, f), strides=(1, 1), padding='same', name=conv_name_base + '2b', kernel_initializer=glorot_uniform(seed=0))(X)\n",
    "    X = BatchNormalization(axis=3, name=bn_name_base + '2b')(X)\n",
    "    X = Activation('relu')(X)\n",
    "\n",
    "    X = Conv2D(filters=F3, kernel_size=(1, 1), strides=(1, 1), padding='valid', name=conv_name_base + '2c', kernel_initializer=glorot_uniform(seed=0))(X)\n",
    "    X = BatchNormalization(axis=3, name=bn_name_base + '2c')(X)\n",
    "\n",
    "    X_shortcut = Conv2D(filters=F3, kernel_size=(1, 1), strides=(s, s), padding='valid', name=conv_name_base + '1', kernel_initializer=glorot_uniform(seed=0))(X_shortcut)\n",
    "    X_shortcut = BatchNormalization(axis=3, name=bn_name_base + '1')(X_shortcut)\n",
    "\n",
    "    X = Add()([X, X_shortcut])\n",
    "    X = Activation('relu')(X)\n",
    "\n",
    "    return X"
   ]
  },
  {
   "cell_type": "code",
   "execution_count": 42,
   "metadata": {},
   "outputs": [],
   "source": [
    "#ResNet50 Block\n",
    "\n",
    "def ResNet50(input_shape=(48,48,3)):\n",
    "\n",
    "    X_input = Input(input_shape)\n",
    "\n",
    "    X = ZeroPadding2D((3, 3))(X_input)\n",
    "\n",
    "    X = Conv2D(64, (7, 7), strides=(2, 2), name='conv1', kernel_initializer=glorot_uniform(seed=0))(X)\n",
    "    X = BatchNormalization(axis=3, name='bn_conv1')(X)\n",
    "    X = Activation('relu')(X)\n",
    "    X = MaxPooling2D((3, 3), strides=(2, 2))(X)\n",
    "\n",
    "    X = convolutional(X, f=3, filters=[64, 64, 256], stage=2, block='a', s=1)\n",
    "    X = identity(X, 3, [64, 64, 256], stage=2, block='b')\n",
    "    X = identity(X, 3, [64, 64, 256], stage=2, block='c')\n",
    "\n",
    "\n",
    "    X = convolutional(X, f=3, filters=[128, 128, 512], stage=3, block='a', s=2)\n",
    "    X = identity(X, 3, [128, 128, 512], stage=3, block='b')\n",
    "    X = identity(X, 3, [128, 128, 512], stage=3, block='c')\n",
    "    X = identity(X, 3, [128, 128, 512], stage=3, block='d')\n",
    "\n",
    "    X = convolutional(X, f=3, filters=[256, 256, 1024], stage=4, block='a', s=2)\n",
    "    X = identity(X, 3, [256, 256, 1024], stage=4, block='b')\n",
    "    X = identity(X, 3, [256, 256, 1024], stage=4, block='c')\n",
    "    X = identity(X, 3, [256, 256, 1024], stage=4, block='d')\n",
    "    X = identity(X, 3, [256, 256, 1024], stage=4, block='e')\n",
    "    X = identity(X, 3, [256, 256, 1024], stage=4, block='f')\n",
    "\n",
    "    X = X = convolutional(X, f=3, filters=[512, 512, 2048], stage=5, block='a', s=2)\n",
    "    X = identity(X, 3, [512, 512, 2048], stage=5, block='b')\n",
    "    X = identity(X, 3, [512, 512, 2048], stage=5, block='c')\n",
    "\n",
    "    X = AveragePooling2D(pool_size=(2, 2), padding='same')(X)\n",
    "    \n",
    "    model = Model(inputs=X_input, outputs=X, name='ResNet50')\n",
    "\n",
    "    return model\n"
   ]
  },
  {
   "cell_type": "code",
   "execution_count": 43,
   "metadata": {},
   "outputs": [],
   "source": [
    "resnet = ResNet50(input_shape=(48,48,1))"
   ]
  },
  {
   "cell_type": "code",
   "execution_count": 44,
   "metadata": {},
   "outputs": [],
   "source": [
    "#Add fully connected layers for I/O to ResNet model.\n",
    "newModel = resnet.output\n",
    "newModel = Flatten()(newModel)\n",
    "#Removed dense layer 'fc1' to attempt to improve loss and accuracy.\n",
    "newModel = Dense(128, activation='relu', name='fc2',kernel_initializer=glorot_uniform(seed=0))(newModel)\n",
    "newModel = Dense(7,activation='softmax', name='fc3',kernel_initializer=glorot_uniform(seed=0))(newModel)\n"
   ]
  },
  {
   "cell_type": "code",
   "execution_count": 45,
   "metadata": {},
   "outputs": [],
   "source": [
    "#Feed input data into model, output into the fully connected layers.\n",
    "model = Model(inputs=resnet.input, outputs=newModel)\n"
   ]
  },
  {
   "cell_type": "code",
   "execution_count": 46,
   "metadata": {},
   "outputs": [
    {
     "name": "stdout",
     "output_type": "stream",
     "text": [
      "Model: \"model_1\"\n",
      "__________________________________________________________________________________________________\n",
      " Layer (type)                   Output Shape         Param #     Connected to                     \n",
      "==================================================================================================\n",
      " input_2 (InputLayer)           [(None, 48, 48, 1)]  0           []                               \n",
      "                                                                                                  \n",
      " zero_padding2d_1 (ZeroPadding2  (None, 54, 54, 1)   0           ['input_2[0][0]']                \n",
      " D)                                                                                               \n",
      "                                                                                                  \n",
      " conv1 (Conv2D)                 (None, 24, 24, 64)   3200        ['zero_padding2d_1[0][0]']       \n",
      "                                                                                                  \n",
      " bn_conv1 (BatchNormalization)  (None, 24, 24, 64)   256         ['conv1[0][0]']                  \n",
      "                                                                                                  \n",
      " activation_49 (Activation)     (None, 24, 24, 64)   0           ['bn_conv1[0][0]']               \n",
      "                                                                                                  \n",
      " max_pooling2d_1 (MaxPooling2D)  (None, 11, 11, 64)  0           ['activation_49[0][0]']          \n",
      "                                                                                                  \n",
      " res2a_branch2a (Conv2D)        (None, 11, 11, 64)   4160        ['max_pooling2d_1[0][0]']        \n",
      "                                                                                                  \n",
      " bn2a_branch2a (BatchNormalizat  (None, 11, 11, 64)  256         ['res2a_branch2a[0][0]']         \n",
      " ion)                                                                                             \n",
      "                                                                                                  \n",
      " activation_50 (Activation)     (None, 11, 11, 64)   0           ['bn2a_branch2a[0][0]']          \n",
      "                                                                                                  \n",
      " res2a_branch2b (Conv2D)        (None, 11, 11, 64)   36928       ['activation_50[0][0]']          \n",
      "                                                                                                  \n",
      " bn2a_branch2b (BatchNormalizat  (None, 11, 11, 64)  256         ['res2a_branch2b[0][0]']         \n",
      " ion)                                                                                             \n",
      "                                                                                                  \n",
      " activation_51 (Activation)     (None, 11, 11, 64)   0           ['bn2a_branch2b[0][0]']          \n",
      "                                                                                                  \n",
      " res2a_branch2c (Conv2D)        (None, 11, 11, 256)  16640       ['activation_51[0][0]']          \n",
      "                                                                                                  \n",
      " res2a_branch1 (Conv2D)         (None, 11, 11, 256)  16640       ['max_pooling2d_1[0][0]']        \n",
      "                                                                                                  \n",
      " bn2a_branch2c (BatchNormalizat  (None, 11, 11, 256)  1024       ['res2a_branch2c[0][0]']         \n",
      " ion)                                                                                             \n",
      "                                                                                                  \n",
      " bn2a_branch1 (BatchNormalizati  (None, 11, 11, 256)  1024       ['res2a_branch1[0][0]']          \n",
      " on)                                                                                              \n",
      "                                                                                                  \n",
      " add_16 (Add)                   (None, 11, 11, 256)  0           ['bn2a_branch2c[0][0]',          \n",
      "                                                                  'bn2a_branch1[0][0]']           \n",
      "                                                                                                  \n",
      " activation_52 (Activation)     (None, 11, 11, 256)  0           ['add_16[0][0]']                 \n",
      "                                                                                                  \n",
      " res2b_branch2a (Conv2D)        (None, 11, 11, 64)   16448       ['activation_52[0][0]']          \n",
      "                                                                                                  \n",
      " bn2b_branch2a (BatchNormalizat  (None, 11, 11, 64)  256         ['res2b_branch2a[0][0]']         \n",
      " ion)                                                                                             \n",
      "                                                                                                  \n",
      " activation_53 (Activation)     (None, 11, 11, 64)   0           ['bn2b_branch2a[0][0]']          \n",
      "                                                                                                  \n",
      " res2b_branch2b (Conv2D)        (None, 11, 11, 64)   36928       ['activation_53[0][0]']          \n",
      "                                                                                                  \n",
      " bn2b_branch2b (BatchNormalizat  (None, 11, 11, 64)  256         ['res2b_branch2b[0][0]']         \n",
      " ion)                                                                                             \n",
      "                                                                                                  \n",
      " activation_54 (Activation)     (None, 11, 11, 64)   0           ['bn2b_branch2b[0][0]']          \n",
      "                                                                                                  \n",
      " res2b_branch2c (Conv2D)        (None, 11, 11, 256)  16640       ['activation_54[0][0]']          \n",
      "                                                                                                  \n",
      " bn2b_branch2c (BatchNormalizat  (None, 11, 11, 256)  1024       ['res2b_branch2c[0][0]']         \n",
      " ion)                                                                                             \n",
      "                                                                                                  \n",
      " add_17 (Add)                   (None, 11, 11, 256)  0           ['bn2b_branch2c[0][0]',          \n",
      "                                                                  'activation_52[0][0]']          \n",
      "                                                                                                  \n",
      " activation_55 (Activation)     (None, 11, 11, 256)  0           ['add_17[0][0]']                 \n",
      "                                                                                                  \n",
      " res2c_branch2a (Conv2D)        (None, 11, 11, 64)   16448       ['activation_55[0][0]']          \n",
      "                                                                                                  \n",
      " bn2c_branch2a (BatchNormalizat  (None, 11, 11, 64)  256         ['res2c_branch2a[0][0]']         \n",
      " ion)                                                                                             \n",
      "                                                                                                  \n",
      " activation_56 (Activation)     (None, 11, 11, 64)   0           ['bn2c_branch2a[0][0]']          \n",
      "                                                                                                  \n",
      " res2c_branch2b (Conv2D)        (None, 11, 11, 64)   36928       ['activation_56[0][0]']          \n",
      "                                                                                                  \n",
      " bn2c_branch2b (BatchNormalizat  (None, 11, 11, 64)  256         ['res2c_branch2b[0][0]']         \n",
      " ion)                                                                                             \n",
      "                                                                                                  \n",
      " activation_57 (Activation)     (None, 11, 11, 64)   0           ['bn2c_branch2b[0][0]']          \n",
      "                                                                                                  \n",
      " res2c_branch2c (Conv2D)        (None, 11, 11, 256)  16640       ['activation_57[0][0]']          \n",
      "                                                                                                  \n",
      " bn2c_branch2c (BatchNormalizat  (None, 11, 11, 256)  1024       ['res2c_branch2c[0][0]']         \n",
      " ion)                                                                                             \n",
      "                                                                                                  \n",
      " add_18 (Add)                   (None, 11, 11, 256)  0           ['bn2c_branch2c[0][0]',          \n",
      "                                                                  'activation_55[0][0]']          \n",
      "                                                                                                  \n",
      " activation_58 (Activation)     (None, 11, 11, 256)  0           ['add_18[0][0]']                 \n",
      "                                                                                                  \n",
      " res3a_branch2a (Conv2D)        (None, 6, 6, 128)    32896       ['activation_58[0][0]']          \n",
      "                                                                                                  \n",
      " bn3a_branch2a (BatchNormalizat  (None, 6, 6, 128)   512         ['res3a_branch2a[0][0]']         \n",
      " ion)                                                                                             \n",
      "                                                                                                  \n",
      " activation_59 (Activation)     (None, 6, 6, 128)    0           ['bn3a_branch2a[0][0]']          \n",
      "                                                                                                  \n",
      " res3a_branch2b (Conv2D)        (None, 6, 6, 128)    147584      ['activation_59[0][0]']          \n",
      "                                                                                                  \n",
      " bn3a_branch2b (BatchNormalizat  (None, 6, 6, 128)   512         ['res3a_branch2b[0][0]']         \n",
      " ion)                                                                                             \n",
      "                                                                                                  \n",
      " activation_60 (Activation)     (None, 6, 6, 128)    0           ['bn3a_branch2b[0][0]']          \n",
      "                                                                                                  \n",
      " res3a_branch2c (Conv2D)        (None, 6, 6, 512)    66048       ['activation_60[0][0]']          \n",
      "                                                                                                  \n",
      " res3a_branch1 (Conv2D)         (None, 6, 6, 512)    131584      ['activation_58[0][0]']          \n",
      "                                                                                                  \n",
      " bn3a_branch2c (BatchNormalizat  (None, 6, 6, 512)   2048        ['res3a_branch2c[0][0]']         \n",
      " ion)                                                                                             \n",
      "                                                                                                  \n",
      " bn3a_branch1 (BatchNormalizati  (None, 6, 6, 512)   2048        ['res3a_branch1[0][0]']          \n",
      " on)                                                                                              \n",
      "                                                                                                  \n",
      " add_19 (Add)                   (None, 6, 6, 512)    0           ['bn3a_branch2c[0][0]',          \n",
      "                                                                  'bn3a_branch1[0][0]']           \n",
      "                                                                                                  \n",
      " activation_61 (Activation)     (None, 6, 6, 512)    0           ['add_19[0][0]']                 \n",
      "                                                                                                  \n",
      " res3b_branch2a (Conv2D)        (None, 6, 6, 128)    65664       ['activation_61[0][0]']          \n",
      "                                                                                                  \n",
      " bn3b_branch2a (BatchNormalizat  (None, 6, 6, 128)   512         ['res3b_branch2a[0][0]']         \n",
      " ion)                                                                                             \n",
      "                                                                                                  \n",
      " activation_62 (Activation)     (None, 6, 6, 128)    0           ['bn3b_branch2a[0][0]']          \n",
      "                                                                                                  \n",
      " res3b_branch2b (Conv2D)        (None, 6, 6, 128)    147584      ['activation_62[0][0]']          \n",
      "                                                                                                  \n",
      " bn3b_branch2b (BatchNormalizat  (None, 6, 6, 128)   512         ['res3b_branch2b[0][0]']         \n",
      " ion)                                                                                             \n",
      "                                                                                                  \n",
      " activation_63 (Activation)     (None, 6, 6, 128)    0           ['bn3b_branch2b[0][0]']          \n",
      "                                                                                                  \n",
      " res3b_branch2c (Conv2D)        (None, 6, 6, 512)    66048       ['activation_63[0][0]']          \n",
      "                                                                                                  \n",
      " bn3b_branch2c (BatchNormalizat  (None, 6, 6, 512)   2048        ['res3b_branch2c[0][0]']         \n",
      " ion)                                                                                             \n",
      "                                                                                                  \n",
      " add_20 (Add)                   (None, 6, 6, 512)    0           ['bn3b_branch2c[0][0]',          \n",
      "                                                                  'activation_61[0][0]']          \n",
      "                                                                                                  \n",
      " activation_64 (Activation)     (None, 6, 6, 512)    0           ['add_20[0][0]']                 \n",
      "                                                                                                  \n",
      " res3c_branch2a (Conv2D)        (None, 6, 6, 128)    65664       ['activation_64[0][0]']          \n",
      "                                                                                                  \n",
      " bn3c_branch2a (BatchNormalizat  (None, 6, 6, 128)   512         ['res3c_branch2a[0][0]']         \n",
      " ion)                                                                                             \n",
      "                                                                                                  \n",
      " activation_65 (Activation)     (None, 6, 6, 128)    0           ['bn3c_branch2a[0][0]']          \n",
      "                                                                                                  \n",
      " res3c_branch2b (Conv2D)        (None, 6, 6, 128)    147584      ['activation_65[0][0]']          \n",
      "                                                                                                  \n",
      " bn3c_branch2b (BatchNormalizat  (None, 6, 6, 128)   512         ['res3c_branch2b[0][0]']         \n",
      " ion)                                                                                             \n",
      "                                                                                                  \n",
      " activation_66 (Activation)     (None, 6, 6, 128)    0           ['bn3c_branch2b[0][0]']          \n",
      "                                                                                                  \n",
      " res3c_branch2c (Conv2D)        (None, 6, 6, 512)    66048       ['activation_66[0][0]']          \n",
      "                                                                                                  \n",
      " bn3c_branch2c (BatchNormalizat  (None, 6, 6, 512)   2048        ['res3c_branch2c[0][0]']         \n",
      " ion)                                                                                             \n",
      "                                                                                                  \n",
      " add_21 (Add)                   (None, 6, 6, 512)    0           ['bn3c_branch2c[0][0]',          \n",
      "                                                                  'activation_64[0][0]']          \n",
      "                                                                                                  \n",
      " activation_67 (Activation)     (None, 6, 6, 512)    0           ['add_21[0][0]']                 \n",
      "                                                                                                  \n",
      " res3d_branch2a (Conv2D)        (None, 6, 6, 128)    65664       ['activation_67[0][0]']          \n",
      "                                                                                                  \n",
      " bn3d_branch2a (BatchNormalizat  (None, 6, 6, 128)   512         ['res3d_branch2a[0][0]']         \n",
      " ion)                                                                                             \n",
      "                                                                                                  \n",
      " activation_68 (Activation)     (None, 6, 6, 128)    0           ['bn3d_branch2a[0][0]']          \n",
      "                                                                                                  \n",
      " res3d_branch2b (Conv2D)        (None, 6, 6, 128)    147584      ['activation_68[0][0]']          \n",
      "                                                                                                  \n",
      " bn3d_branch2b (BatchNormalizat  (None, 6, 6, 128)   512         ['res3d_branch2b[0][0]']         \n",
      " ion)                                                                                             \n",
      "                                                                                                  \n",
      " activation_69 (Activation)     (None, 6, 6, 128)    0           ['bn3d_branch2b[0][0]']          \n",
      "                                                                                                  \n",
      " res3d_branch2c (Conv2D)        (None, 6, 6, 512)    66048       ['activation_69[0][0]']          \n",
      "                                                                                                  \n",
      " bn3d_branch2c (BatchNormalizat  (None, 6, 6, 512)   2048        ['res3d_branch2c[0][0]']         \n",
      " ion)                                                                                             \n",
      "                                                                                                  \n",
      " add_22 (Add)                   (None, 6, 6, 512)    0           ['bn3d_branch2c[0][0]',          \n",
      "                                                                  'activation_67[0][0]']          \n",
      "                                                                                                  \n",
      " activation_70 (Activation)     (None, 6, 6, 512)    0           ['add_22[0][0]']                 \n",
      "                                                                                                  \n",
      " res4a_branch2a (Conv2D)        (None, 3, 3, 256)    131328      ['activation_70[0][0]']          \n",
      "                                                                                                  \n",
      " bn4a_branch2a (BatchNormalizat  (None, 3, 3, 256)   1024        ['res4a_branch2a[0][0]']         \n",
      " ion)                                                                                             \n",
      "                                                                                                  \n",
      " activation_71 (Activation)     (None, 3, 3, 256)    0           ['bn4a_branch2a[0][0]']          \n",
      "                                                                                                  \n",
      " res4a_branch2b (Conv2D)        (None, 3, 3, 256)    590080      ['activation_71[0][0]']          \n",
      "                                                                                                  \n",
      " bn4a_branch2b (BatchNormalizat  (None, 3, 3, 256)   1024        ['res4a_branch2b[0][0]']         \n",
      " ion)                                                                                             \n",
      "                                                                                                  \n",
      " activation_72 (Activation)     (None, 3, 3, 256)    0           ['bn4a_branch2b[0][0]']          \n",
      "                                                                                                  \n",
      " res4a_branch2c (Conv2D)        (None, 3, 3, 1024)   263168      ['activation_72[0][0]']          \n",
      "                                                                                                  \n",
      " res4a_branch1 (Conv2D)         (None, 3, 3, 1024)   525312      ['activation_70[0][0]']          \n",
      "                                                                                                  \n",
      " bn4a_branch2c (BatchNormalizat  (None, 3, 3, 1024)  4096        ['res4a_branch2c[0][0]']         \n",
      " ion)                                                                                             \n",
      "                                                                                                  \n",
      " bn4a_branch1 (BatchNormalizati  (None, 3, 3, 1024)  4096        ['res4a_branch1[0][0]']          \n",
      " on)                                                                                              \n",
      "                                                                                                  \n",
      " add_23 (Add)                   (None, 3, 3, 1024)   0           ['bn4a_branch2c[0][0]',          \n",
      "                                                                  'bn4a_branch1[0][0]']           \n",
      "                                                                                                  \n",
      " activation_73 (Activation)     (None, 3, 3, 1024)   0           ['add_23[0][0]']                 \n",
      "                                                                                                  \n",
      " res4b_branch2a (Conv2D)        (None, 3, 3, 256)    262400      ['activation_73[0][0]']          \n",
      "                                                                                                  \n",
      " bn4b_branch2a (BatchNormalizat  (None, 3, 3, 256)   1024        ['res4b_branch2a[0][0]']         \n",
      " ion)                                                                                             \n",
      "                                                                                                  \n",
      " activation_74 (Activation)     (None, 3, 3, 256)    0           ['bn4b_branch2a[0][0]']          \n",
      "                                                                                                  \n",
      " res4b_branch2b (Conv2D)        (None, 3, 3, 256)    590080      ['activation_74[0][0]']          \n",
      "                                                                                                  \n",
      " bn4b_branch2b (BatchNormalizat  (None, 3, 3, 256)   1024        ['res4b_branch2b[0][0]']         \n",
      " ion)                                                                                             \n",
      "                                                                                                  \n",
      " activation_75 (Activation)     (None, 3, 3, 256)    0           ['bn4b_branch2b[0][0]']          \n",
      "                                                                                                  \n",
      " res4b_branch2c (Conv2D)        (None, 3, 3, 1024)   263168      ['activation_75[0][0]']          \n",
      "                                                                                                  \n",
      " bn4b_branch2c (BatchNormalizat  (None, 3, 3, 1024)  4096        ['res4b_branch2c[0][0]']         \n",
      " ion)                                                                                             \n",
      "                                                                                                  \n",
      " add_24 (Add)                   (None, 3, 3, 1024)   0           ['bn4b_branch2c[0][0]',          \n",
      "                                                                  'activation_73[0][0]']          \n",
      "                                                                                                  \n",
      " activation_76 (Activation)     (None, 3, 3, 1024)   0           ['add_24[0][0]']                 \n",
      "                                                                                                  \n",
      " res4c_branch2a (Conv2D)        (None, 3, 3, 256)    262400      ['activation_76[0][0]']          \n",
      "                                                                                                  \n",
      " bn4c_branch2a (BatchNormalizat  (None, 3, 3, 256)   1024        ['res4c_branch2a[0][0]']         \n",
      " ion)                                                                                             \n",
      "                                                                                                  \n",
      " activation_77 (Activation)     (None, 3, 3, 256)    0           ['bn4c_branch2a[0][0]']          \n",
      "                                                                                                  \n",
      " res4c_branch2b (Conv2D)        (None, 3, 3, 256)    590080      ['activation_77[0][0]']          \n",
      "                                                                                                  \n",
      " bn4c_branch2b (BatchNormalizat  (None, 3, 3, 256)   1024        ['res4c_branch2b[0][0]']         \n",
      " ion)                                                                                             \n",
      "                                                                                                  \n",
      " activation_78 (Activation)     (None, 3, 3, 256)    0           ['bn4c_branch2b[0][0]']          \n",
      "                                                                                                  \n",
      " res4c_branch2c (Conv2D)        (None, 3, 3, 1024)   263168      ['activation_78[0][0]']          \n",
      "                                                                                                  \n",
      " bn4c_branch2c (BatchNormalizat  (None, 3, 3, 1024)  4096        ['res4c_branch2c[0][0]']         \n",
      " ion)                                                                                             \n",
      "                                                                                                  \n",
      " add_25 (Add)                   (None, 3, 3, 1024)   0           ['bn4c_branch2c[0][0]',          \n",
      "                                                                  'activation_76[0][0]']          \n",
      "                                                                                                  \n",
      " activation_79 (Activation)     (None, 3, 3, 1024)   0           ['add_25[0][0]']                 \n",
      "                                                                                                  \n",
      " res4d_branch2a (Conv2D)        (None, 3, 3, 256)    262400      ['activation_79[0][0]']          \n",
      "                                                                                                  \n",
      " bn4d_branch2a (BatchNormalizat  (None, 3, 3, 256)   1024        ['res4d_branch2a[0][0]']         \n",
      " ion)                                                                                             \n",
      "                                                                                                  \n",
      " activation_80 (Activation)     (None, 3, 3, 256)    0           ['bn4d_branch2a[0][0]']          \n",
      "                                                                                                  \n",
      " res4d_branch2b (Conv2D)        (None, 3, 3, 256)    590080      ['activation_80[0][0]']          \n",
      "                                                                                                  \n",
      " bn4d_branch2b (BatchNormalizat  (None, 3, 3, 256)   1024        ['res4d_branch2b[0][0]']         \n",
      " ion)                                                                                             \n",
      "                                                                                                  \n",
      " activation_81 (Activation)     (None, 3, 3, 256)    0           ['bn4d_branch2b[0][0]']          \n",
      "                                                                                                  \n",
      " res4d_branch2c (Conv2D)        (None, 3, 3, 1024)   263168      ['activation_81[0][0]']          \n",
      "                                                                                                  \n",
      " bn4d_branch2c (BatchNormalizat  (None, 3, 3, 1024)  4096        ['res4d_branch2c[0][0]']         \n",
      " ion)                                                                                             \n",
      "                                                                                                  \n",
      " add_26 (Add)                   (None, 3, 3, 1024)   0           ['bn4d_branch2c[0][0]',          \n",
      "                                                                  'activation_79[0][0]']          \n",
      "                                                                                                  \n",
      " activation_82 (Activation)     (None, 3, 3, 1024)   0           ['add_26[0][0]']                 \n",
      "                                                                                                  \n",
      " res4e_branch2a (Conv2D)        (None, 3, 3, 256)    262400      ['activation_82[0][0]']          \n",
      "                                                                                                  \n",
      " bn4e_branch2a (BatchNormalizat  (None, 3, 3, 256)   1024        ['res4e_branch2a[0][0]']         \n",
      " ion)                                                                                             \n",
      "                                                                                                  \n",
      " activation_83 (Activation)     (None, 3, 3, 256)    0           ['bn4e_branch2a[0][0]']          \n",
      "                                                                                                  \n",
      " res4e_branch2b (Conv2D)        (None, 3, 3, 256)    590080      ['activation_83[0][0]']          \n",
      "                                                                                                  \n",
      " bn4e_branch2b (BatchNormalizat  (None, 3, 3, 256)   1024        ['res4e_branch2b[0][0]']         \n",
      " ion)                                                                                             \n",
      "                                                                                                  \n",
      " activation_84 (Activation)     (None, 3, 3, 256)    0           ['bn4e_branch2b[0][0]']          \n",
      "                                                                                                  \n",
      " res4e_branch2c (Conv2D)        (None, 3, 3, 1024)   263168      ['activation_84[0][0]']          \n",
      "                                                                                                  \n",
      " bn4e_branch2c (BatchNormalizat  (None, 3, 3, 1024)  4096        ['res4e_branch2c[0][0]']         \n",
      " ion)                                                                                             \n",
      "                                                                                                  \n",
      " add_27 (Add)                   (None, 3, 3, 1024)   0           ['bn4e_branch2c[0][0]',          \n",
      "                                                                  'activation_82[0][0]']          \n",
      "                                                                                                  \n",
      " activation_85 (Activation)     (None, 3, 3, 1024)   0           ['add_27[0][0]']                 \n",
      "                                                                                                  \n",
      " res4f_branch2a (Conv2D)        (None, 3, 3, 256)    262400      ['activation_85[0][0]']          \n",
      "                                                                                                  \n",
      " bn4f_branch2a (BatchNormalizat  (None, 3, 3, 256)   1024        ['res4f_branch2a[0][0]']         \n",
      " ion)                                                                                             \n",
      "                                                                                                  \n",
      " activation_86 (Activation)     (None, 3, 3, 256)    0           ['bn4f_branch2a[0][0]']          \n",
      "                                                                                                  \n",
      " res4f_branch2b (Conv2D)        (None, 3, 3, 256)    590080      ['activation_86[0][0]']          \n",
      "                                                                                                  \n",
      " bn4f_branch2b (BatchNormalizat  (None, 3, 3, 256)   1024        ['res4f_branch2b[0][0]']         \n",
      " ion)                                                                                             \n",
      "                                                                                                  \n",
      " activation_87 (Activation)     (None, 3, 3, 256)    0           ['bn4f_branch2b[0][0]']          \n",
      "                                                                                                  \n",
      " res4f_branch2c (Conv2D)        (None, 3, 3, 1024)   263168      ['activation_87[0][0]']          \n",
      "                                                                                                  \n",
      " bn4f_branch2c (BatchNormalizat  (None, 3, 3, 1024)  4096        ['res4f_branch2c[0][0]']         \n",
      " ion)                                                                                             \n",
      "                                                                                                  \n",
      " add_28 (Add)                   (None, 3, 3, 1024)   0           ['bn4f_branch2c[0][0]',          \n",
      "                                                                  'activation_85[0][0]']          \n",
      "                                                                                                  \n",
      " activation_88 (Activation)     (None, 3, 3, 1024)   0           ['add_28[0][0]']                 \n",
      "                                                                                                  \n",
      " res5a_branch2a (Conv2D)        (None, 2, 2, 512)    524800      ['activation_88[0][0]']          \n",
      "                                                                                                  \n",
      " bn5a_branch2a (BatchNormalizat  (None, 2, 2, 512)   2048        ['res5a_branch2a[0][0]']         \n",
      " ion)                                                                                             \n",
      "                                                                                                  \n",
      " activation_89 (Activation)     (None, 2, 2, 512)    0           ['bn5a_branch2a[0][0]']          \n",
      "                                                                                                  \n",
      " res5a_branch2b (Conv2D)        (None, 2, 2, 512)    2359808     ['activation_89[0][0]']          \n",
      "                                                                                                  \n",
      " bn5a_branch2b (BatchNormalizat  (None, 2, 2, 512)   2048        ['res5a_branch2b[0][0]']         \n",
      " ion)                                                                                             \n",
      "                                                                                                  \n",
      " activation_90 (Activation)     (None, 2, 2, 512)    0           ['bn5a_branch2b[0][0]']          \n",
      "                                                                                                  \n",
      " res5a_branch2c (Conv2D)        (None, 2, 2, 2048)   1050624     ['activation_90[0][0]']          \n",
      "                                                                                                  \n",
      " res5a_branch1 (Conv2D)         (None, 2, 2, 2048)   2099200     ['activation_88[0][0]']          \n",
      "                                                                                                  \n",
      " bn5a_branch2c (BatchNormalizat  (None, 2, 2, 2048)  8192        ['res5a_branch2c[0][0]']         \n",
      " ion)                                                                                             \n",
      "                                                                                                  \n",
      " bn5a_branch1 (BatchNormalizati  (None, 2, 2, 2048)  8192        ['res5a_branch1[0][0]']          \n",
      " on)                                                                                              \n",
      "                                                                                                  \n",
      " add_29 (Add)                   (None, 2, 2, 2048)   0           ['bn5a_branch2c[0][0]',          \n",
      "                                                                  'bn5a_branch1[0][0]']           \n",
      "                                                                                                  \n",
      " activation_91 (Activation)     (None, 2, 2, 2048)   0           ['add_29[0][0]']                 \n",
      "                                                                                                  \n",
      " res5b_branch2a (Conv2D)        (None, 2, 2, 512)    1049088     ['activation_91[0][0]']          \n",
      "                                                                                                  \n",
      " bn5b_branch2a (BatchNormalizat  (None, 2, 2, 512)   2048        ['res5b_branch2a[0][0]']         \n",
      " ion)                                                                                             \n",
      "                                                                                                  \n",
      " activation_92 (Activation)     (None, 2, 2, 512)    0           ['bn5b_branch2a[0][0]']          \n",
      "                                                                                                  \n",
      " res5b_branch2b (Conv2D)        (None, 2, 2, 512)    2359808     ['activation_92[0][0]']          \n",
      "                                                                                                  \n",
      " bn5b_branch2b (BatchNormalizat  (None, 2, 2, 512)   2048        ['res5b_branch2b[0][0]']         \n",
      " ion)                                                                                             \n",
      "                                                                                                  \n",
      " activation_93 (Activation)     (None, 2, 2, 512)    0           ['bn5b_branch2b[0][0]']          \n",
      "                                                                                                  \n",
      " res5b_branch2c (Conv2D)        (None, 2, 2, 2048)   1050624     ['activation_93[0][0]']          \n",
      "                                                                                                  \n",
      " bn5b_branch2c (BatchNormalizat  (None, 2, 2, 2048)  8192        ['res5b_branch2c[0][0]']         \n",
      " ion)                                                                                             \n",
      "                                                                                                  \n",
      " add_30 (Add)                   (None, 2, 2, 2048)   0           ['bn5b_branch2c[0][0]',          \n",
      "                                                                  'activation_91[0][0]']          \n",
      "                                                                                                  \n",
      " activation_94 (Activation)     (None, 2, 2, 2048)   0           ['add_30[0][0]']                 \n",
      "                                                                                                  \n",
      " res5c_branch2a (Conv2D)        (None, 2, 2, 512)    1049088     ['activation_94[0][0]']          \n",
      "                                                                                                  \n",
      " bn5c_branch2a (BatchNormalizat  (None, 2, 2, 512)   2048        ['res5c_branch2a[0][0]']         \n",
      " ion)                                                                                             \n",
      "                                                                                                  \n",
      " activation_95 (Activation)     (None, 2, 2, 512)    0           ['bn5c_branch2a[0][0]']          \n",
      "                                                                                                  \n",
      " res5c_branch2b (Conv2D)        (None, 2, 2, 512)    2359808     ['activation_95[0][0]']          \n",
      "                                                                                                  \n",
      " bn5c_branch2b (BatchNormalizat  (None, 2, 2, 512)   2048        ['res5c_branch2b[0][0]']         \n",
      " ion)                                                                                             \n",
      "                                                                                                  \n",
      " activation_96 (Activation)     (None, 2, 2, 512)    0           ['bn5c_branch2b[0][0]']          \n",
      "                                                                                                  \n",
      " res5c_branch2c (Conv2D)        (None, 2, 2, 2048)   1050624     ['activation_96[0][0]']          \n",
      "                                                                                                  \n",
      " bn5c_branch2c (BatchNormalizat  (None, 2, 2, 2048)  8192        ['res5c_branch2c[0][0]']         \n",
      " ion)                                                                                             \n",
      "                                                                                                  \n",
      " add_31 (Add)                   (None, 2, 2, 2048)   0           ['bn5c_branch2c[0][0]',          \n",
      "                                                                  'activation_94[0][0]']          \n",
      "                                                                                                  \n",
      " activation_97 (Activation)     (None, 2, 2, 2048)   0           ['add_31[0][0]']                 \n",
      "                                                                                                  \n",
      " average_pooling2d_1 (AveragePo  (None, 1, 1, 2048)  0           ['activation_97[0][0]']          \n",
      " oling2D)                                                                                         \n",
      "                                                                                                  \n",
      " flatten_1 (Flatten)            (None, 2048)         0           ['average_pooling2d_1[0][0]']    \n",
      "                                                                                                  \n",
      " fc2 (Dense)                    (None, 128)          262272      ['flatten_1[0][0]']              \n",
      "                                                                                                  \n",
      " fc3 (Dense)                    (None, 7)            903         ['fc2[0][0]']                    \n",
      "                                                                                                  \n",
      "==================================================================================================\n",
      "Total params: 23,844,615\n",
      "Trainable params: 23,791,495\n",
      "Non-trainable params: 53,120\n",
      "__________________________________________________________________________________________________\n"
     ]
    }
   ],
   "source": [
    "#Load weights from training, define learning rate and compile model.\n",
    "adam = tf.keras.optimizers.Adam(learning_rate=0.0001)\n",
    "model.compile(optimizer=adam, loss='categorical_crossentropy', metrics=['accuracy'])\n",
    "#Summary of model's layers and parameters.\n",
    "model.summary()"
   ]
  },
  {
   "cell_type": "code",
   "execution_count": 47,
   "metadata": {},
   "outputs": [],
   "source": [
    "#Hot encode the emotion labels before training.\n",
    "y_train = to_categorical(Y_train, num_classes=7)\n",
    "y_test = to_categorical(Y_test, num_classes=7)\n"
   ]
  },
  {
   "cell_type": "code",
   "execution_count": 48,
   "metadata": {},
   "outputs": [
    {
     "name": "stderr",
     "output_type": "stream",
     "text": [
      "2022-04-22 04:19:41.441281: W tensorflow/core/framework/cpu_allocator_impl.cc:82] Allocation of 1043804160 exceeds 10% of free system memory.\n"
     ]
    }
   ],
   "source": [
    "#Define what each result from the prediction function means for each emotion.\n",
    "label_dict = {0 : 'Angry', 1 : 'Disgust', 2 : 'Fear', 3 : 'Happiness', 4 : 'Sad', 5 : 'Surprise', 6 : 'Neutral'}\n",
    "#Prediction function, returns the vector of image label, as well as index of image location.\n",
    "preds = model.predict(X_train)\n",
    "def get_class(preds):\n",
    "  pred_class = np.zeros((preds.shape[0],1))\n",
    "\n",
    "  for i in range(len(preds)):\n",
    "   pred_class[i] = np.argmax(preds[i])\n",
    "\n",
    "  return pred_class\n",
    "\n",
    "pred_class_train = get_class(preds)"
   ]
  },
  {
   "cell_type": "code",
   "execution_count": 49,
   "metadata": {},
   "outputs": [],
   "source": [
    "#Training the model, using batch size of 16 and 50 1000-step epochs, ONLY USED TO TRAIN MODEL.\n",
    "\n",
    "#Early Stopping to prevent Overfitting the model.\n",
    "#es=EarlyStopping(monitor='val_accuracy', mode='max', verbose=1, patience=20)\n",
    "#Create a checkpoint of the epoch with the highest accuracy.\n",
    "#mc = ModelCheckpoint('best_model3.h5', monitor='val_accuracy', mode='max')\n",
    "\n",
    "#Model_Result must remain commented to prevent retraining and overwriting checkpoints after training!\n",
    "\n",
    "#Model_Result = model.fit(X_train, y_train, validation_data=(X_test,y_test),epochs=50,steps_per_epoch=1000,batch_size=16,verbose=1,callbacks=[mc,es])\n",
    "\n",
    "#Save the overall model so it can be loaded without having to re-train each time.\n",
    "\n",
    "#model.save('ResNet-HardCode3')\n",
    "\n"
   ]
  },
  {
   "cell_type": "code",
   "execution_count": 50,
   "metadata": {},
   "outputs": [],
   "source": [
    "#Load the saved model, this includes the training weights.\n",
    "model = load_model('ResNet-HardCode3')"
   ]
  },
  {
   "cell_type": "code",
   "execution_count": 51,
   "metadata": {},
   "outputs": [
    {
     "name": "stdout",
     "output_type": "stream",
     "text": [
      "There are 7178 images in the testing folder\n"
     ]
    },
    {
     "name": "stderr",
     "output_type": "stream",
     "text": [
      "/home/vscode/.local/lib/python3.7/site-packages/keras_preprocessing/image/utils.py:107: UserWarning: grayscale is deprecated. Please use color_mode = \"grayscale\"\n",
      "  warnings.warn('grayscale is deprecated. Please use '\n"
     ]
    },
    {
     "name": "stdout",
     "output_type": "stream",
     "text": [
      "The predicted emotion is : Happiness\n"
     ]
    },
    {
     "data": {
      "text/plain": [
       "<matplotlib.image.AxesImage at 0x7f70968dd630>"
      ]
     },
     "execution_count": 51,
     "metadata": {},
     "output_type": "execute_result"
    },
    {
     "data": {
      "image/png": "[encoded data removed]",
      "text/plain": [
       "<Figure size 432x288 with 1 Axes>"
      ]
     },
     "metadata": {
      "needs_background": "light"
     },
     "output_type": "display_data"
    }
   ],
   "source": [
    "#Pick a random image from the RandomImages folder, containing all test images from FER2013, not from CSV data.\n",
    "test_image_count = len(os.listdir('/com.docker.devenvironments.code/fer2013/RandomImages'))\n",
    "print('There are ' + str(test_image_count) + ' images in the testing folder')\n",
    "test_image = random.choice(os.listdir('/com.docker.devenvironments.code/fer2013/RandomImages'))\n",
    "\n",
    "img_path = ('/com.docker.devenvironments.code/fer2013/RandomImages/' + test_image)\n",
    "#Load the selected image\n",
    "img = image.load_img(img_path, grayscale=True, target_size=(48,48,1))\n",
    "\n",
    "#Translate image into array form so it can be fed into the prediction function.\n",
    "x = image.img_to_array(img)\n",
    "x = np.expand_dims(x, axis=0)\n",
    "prediction = np.argmax(model.predict(x))\n",
    "\n",
    "#Display the image and the predicted emotion as an output.\n",
    "print('The predicted emotion is : ' + label_dict[prediction])\n",
    "my_image = image.load_img(img_path)\n",
    "plt.imshow(my_image)"
   ]
  },
  {
   "cell_type": "code",
   "execution_count": 52,
   "metadata": {},
   "outputs": [
    {
     "name": "stdout",
     "output_type": "stream",
     "text": [
      "25/25 [==============================] - 18s 634ms/step - loss: 0.9203 - accuracy: 0.7659\n",
      "test loss, test acc [0.9203492403030396, 0.7659304141998291]\n"
     ]
    }
   ],
   "source": [
    "#Evaluate on Test Data, quickly runs a batch of data through the model to test accuracy and loss:\n",
    "results = model.evaluate(X_test, y_test, batch_size = 256)\n",
    "print(\"test loss, test acc\",results)"
   ]
  },
  {
   "cell_type": "code",
   "execution_count": 54,
   "metadata": {},
   "outputs": [],
   "source": [
    "#Plot graphs for accuracy and loss, can ONLY be done in the same execution as training since Model_Result doesnt save.\n",
    "#plt.subplot(2,1,1)\n",
    "#plt.plot(Model_Result.history['accuracy'])\n",
    "#plt.plot(Model_Result.history['val_accuracy'])\n",
    "#plt.title('Manual ResNet CSV Model 2nd Fix - Accuracy')\n",
    "#plt.ylabel('accuracy')\n",
    "#plt.xlabel('epoch')\n",
    "#plt.legend(['train', 'test'], loc = 'lower right')"
   ]
  },
  {
   "cell_type": "code",
   "execution_count": 55,
   "metadata": {},
   "outputs": [],
   "source": [
    "#plt.subplot(2,1,2)\n",
    "#plt.plot(Model_Result.history['loss'])\n",
    "#plt.plot(Model_Result.history['val_loss'])\n",
    "#plt.title('Manual ResNet CSV Model 2nd Fix - Loss')\n",
    "#plt.ylabel('loss')\n",
    "#plt.xlabel('epoch')\n",
    "#plt.legend(['train', 'test'], loc = 'upper right')"
   ]
  }
 ],
 "metadata": {
  "interpreter": {
   "hash": "31f2aee4e71d21fbe5cf8b01ff0e069b9275f58929596ceb00d14d90e3e16cd6"
  },
  "kernelspec": {
   "display_name": "Python 3.7.3 64-bit",
   "language": "python",
   "name": "python3"
  },
  "language_info": {
   "codemirror_mode": {
    "name": "ipython",
    "version": 3
   },
   "file_extension": ".py",
   "mimetype": "text/x-python",
   "name": "python",
   "nbconvert_exporter": "python",
   "pygments_lexer": "ipython3",
   "version": "3.7.3"
  },
  "orig_nbformat": 4
 },
 "nbformat": 4,
 "nbformat_minor": 2
}
