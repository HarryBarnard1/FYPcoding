{
 "cells": [
  {
   "cell_type": "code",
   "execution_count": 6,
   "metadata": {},
   "outputs": [],
   "source": [
    "import pandas as pd\n",
    "from PIL import Image\n",
    "import numpy as np\n",
    "import matplotlib.pyplot as plt\n",
    "from tensorflow import keras\n",
    "import tensorflow as tf\n",
    "from sklearn.model_selection import train_test_split\n",
    "from keras.layers import Conv2D, MaxPool2D, AveragePooling2D, Input, BatchNormalization, MaxPooling2D, Activation, Flatten, Dense, Dropout\n",
    "from keras.models import Model\n",
    "\n",
    "from tensorflow.keras.utils import to_categorical\n",
    "from sklearn.metrics import classification_report\n",
    "from imblearn.over_sampling import RandomOverSampler\n",
    "from keras.preprocessing import image\n",
    "from keras.preprocessing.image import ImageDataGenerator\n",
    "from keras.models import Sequential\n",
    "import scipy\n",
    "import os\n",
    "import random\n",
    "import gc\n",
    "from keras.callbacks import ModelCheckpoint\n",
    "from zipfile import ZipFile\n",
    "import glob\n",
    "from tensorflow.keras.applications.resnet50 import preprocess_input\n"
   ]
  },
  {
   "cell_type": "code",
   "execution_count": 7,
   "metadata": {},
   "outputs": [],
   "source": [
    "data = pd.read_csv('/com.docker.devenvironments.code/fer2013/icml_face_data.csv')"
   ]
  },
  {
   "cell_type": "code",
   "execution_count": 8,
   "metadata": {},
   "outputs": [],
   "source": [
    "pixel_data = data[' pixels']\n",
    "label_data = data['emotion']"
   ]
  },
  {
   "cell_type": "code",
   "execution_count": 9,
   "metadata": {},
   "outputs": [
    {
     "data": {
      "text/plain": [
       "35887"
      ]
     },
     "execution_count": 9,
     "metadata": {},
     "output_type": "execute_result"
    }
   ],
   "source": [
    "len(label_data)"
   ]
  },
  {
   "cell_type": "code",
   "execution_count": 10,
   "metadata": {},
   "outputs": [],
   "source": [
    "def preprocess_pixels(pixel_data):\n",
    "  images = []\n",
    "  for i in range(len(pixel_data)):\n",
    "    img = np.fromstring(pixel_data[i], dtype='int', sep=' ')\n",
    "    img = img.reshape(48,48,1)\n",
    "    images.append(img)\n",
    "\n",
    "  X = np.array(images)\n",
    "  return X\n",
    "\n"
   ]
  },
  {
   "cell_type": "code",
   "execution_count": 11,
   "metadata": {},
   "outputs": [],
   "source": [
    "oversampler = RandomOverSampler(sampling_strategy='auto')\n",
    "\n",
    "X_over, Y_over = oversampler.fit_resample(pixel_data.values.reshape(-1,1), label_data)"
   ]
  },
  {
   "cell_type": "code",
   "execution_count": 12,
   "metadata": {},
   "outputs": [
    {
     "data": {
      "text/plain": [
       "0        70 80 82 72 58 58 60 63 54 58 60 48 89 115 121...\n",
       "1        151 150 147 155 148 133 111 140 170 174 182 15...\n",
       "2        231 212 156 164 174 138 161 173 182 200 106 38...\n",
       "3        24 32 36 30 32 23 19 20 30 41 21 22 32 34 21 1...\n",
       "4        4 0 0 0 0 0 0 0 0 0 0 0 3 15 23 28 48 50 58 84...\n",
       "                               ...                        \n",
       "62918    113 114 115 122 88 69 134 175 178 175 179 178 ...\n",
       "62919    198 180 103 128 142 103 93 84 90 98 126 152 20...\n",
       "62920    196 131 139 142 144 145 147 149 150 151 150 12...\n",
       "62921    154 155 155 155 155 154 155 153 156 152 98 31 ...\n",
       "62922    31 31 27 26 28 30 24 24 25 29 32 29 25 22 21 2...\n",
       "Length: 62923, dtype: object"
      ]
     },
     "execution_count": 12,
     "metadata": {},
     "output_type": "execute_result"
    }
   ],
   "source": [
    "X_over_series = pd.Series(X_over.flatten())\n",
    "X_over_series"
   ]
  },
  {
   "cell_type": "code",
   "execution_count": 13,
   "metadata": {},
   "outputs": [],
   "source": [
    "X = preprocess_pixels(X_over_series)\n",
    "Y = Y_over"
   ]
  },
  {
   "cell_type": "code",
   "execution_count": 14,
   "metadata": {},
   "outputs": [
    {
     "data": {
      "text/plain": [
       "(62923, 1)"
      ]
     },
     "execution_count": 14,
     "metadata": {},
     "output_type": "execute_result"
    }
   ],
   "source": [
    "Y = Y_over.values.reshape(Y.shape[0],1)\n",
    "Y.shape"
   ]
  },
  {
   "cell_type": "code",
   "execution_count": 15,
   "metadata": {},
   "outputs": [
    {
     "name": "stdout",
     "output_type": "stream",
     "text": [
      "(56630, 48, 48, 1) (56630, 1)\n"
     ]
    }
   ],
   "source": [
    "X_train, X_test, Y_train, Y_test = train_test_split(X, Y, test_size = 0.1, random_state = 45)\n",
    "print(X_train.shape, Y_train.shape)"
   ]
  },
  {
   "cell_type": "code",
   "execution_count": 16,
   "metadata": {},
   "outputs": [
    {
     "data": {
      "text/plain": [
       "<matplotlib.image.AxesImage at 0x7fedbc5b5940>"
      ]
     },
     "execution_count": 16,
     "metadata": {},
     "output_type": "execute_result"
    },
    {
     "data": {
      "image/png": "[encoded data removed]",
      "text/plain": [
       "<Figure size 432x288 with 1 Axes>"
      ]
     },
     "metadata": {
      "needs_background": "light"
     },
     "output_type": "display_data"
    }
   ],
   "source": [
    "plt.imshow(X[25000,:,:,0])"
   ]
  },
  {
   "cell_type": "code",
   "execution_count": 17,
   "metadata": {},
   "outputs": [],
   "source": [
    "base_model = tf.keras.applications.ResNet50(input_shape=(48,48,3), include_top=False, weights='imagenet')\n",
    "def emotion_recognition(input_shape):\n",
    "  \n",
    "  X_input = Input(input_shape)\n",
    "\n",
    "  X = Conv2D(32, kernel_size=(3,3), strides=(1,1), padding='valid')(X_input)\n",
    "  X = BatchNormalization(axis=3)(X)\n",
    "  X = Activation('relu')(X)\n",
    "\n",
    "\n",
    "  X = Conv2D(64, (3,3), strides=(1,1), padding = 'same')(X)\n",
    "  X = BatchNormalization(axis=3)(X)\n",
    "  X = Activation('relu')(X)\n",
    "\n",
    "  X = MaxPooling2D((2,2))(X)\n",
    "\n",
    "  X = Conv2D(64, (3,3), strides=(1,1), padding = 'valid')(X)\n",
    "  X = BatchNormalization(axis=3)(X)\n",
    "  X = Activation('relu')(X)\n",
    "\n",
    "  X = Conv2D(128, (3,3), strides=(1,1), padding = 'same')(X)\n",
    "  X = BatchNormalization(axis=3)(X)\n",
    "  X = Activation('relu')(X)\n",
    "\n",
    "\n",
    "  X = MaxPooling2D((2,2))(X)\n",
    "\n",
    "  X = Conv2D(128, (3,3), strides=(1,1), padding = 'valid')(X)\n",
    "  X = BatchNormalization(axis=3)(X)\n",
    "  X = Activation('relu')(X)\n",
    "\n",
    " \n",
    "\n",
    "  X = MaxPooling2D((2,2))(X)\n",
    "  X = Flatten()(X)\n",
    "  X = Dense(200, activation='relu')(X)\n",
    "  X = Dropout(0.6)(X)\n",
    "  X = Dense(7, activation = 'softmax')(X)\n",
    "  \n",
    "  model = Model(inputs=X_input, outputs=X)\n",
    "  model = model.add(base_model)\n",
    "\n",
    "  return model"
   ]
  },
  {
   "cell_type": "code",
   "execution_count": 18,
   "metadata": {},
   "outputs": [
    {
     "ename": "AttributeError",
     "evalue": "'Functional' object has no attribute 'add'",
     "output_type": "error",
     "traceback": [
      "\u001b[0;31m---------------------------------------------------------------------------\u001b[0m",
      "\u001b[0;31mAttributeError\u001b[0m                            Traceback (most recent call last)",
      "\u001b[0;32m/tmp/ipykernel_15266/551558408.py\u001b[0m in \u001b[0;36m<module>\u001b[0;34m\u001b[0m\n\u001b[0;32m----> 1\u001b[0;31m \u001b[0mmodel\u001b[0m \u001b[0;34m=\u001b[0m \u001b[0memotion_recognition\u001b[0m\u001b[0;34m(\u001b[0m\u001b[0;34m(\u001b[0m\u001b[0;36m48\u001b[0m\u001b[0;34m,\u001b[0m\u001b[0;36m48\u001b[0m\u001b[0;34m,\u001b[0m\u001b[0;36m1\u001b[0m\u001b[0;34m)\u001b[0m\u001b[0;34m)\u001b[0m\u001b[0;34m\u001b[0m\u001b[0;34m\u001b[0m\u001b[0m\n\u001b[0m\u001b[1;32m      2\u001b[0m \u001b[0madam\u001b[0m \u001b[0;34m=\u001b[0m \u001b[0mtf\u001b[0m\u001b[0;34m.\u001b[0m\u001b[0mkeras\u001b[0m\u001b[0;34m.\u001b[0m\u001b[0moptimizers\u001b[0m\u001b[0;34m.\u001b[0m\u001b[0mAdam\u001b[0m\u001b[0;34m(\u001b[0m\u001b[0mlearning_rate\u001b[0m\u001b[0;34m=\u001b[0m\u001b[0;36m0.0001\u001b[0m\u001b[0;34m)\u001b[0m\u001b[0;34m\u001b[0m\u001b[0;34m\u001b[0m\u001b[0m\n\u001b[1;32m      3\u001b[0m \u001b[0mmodel\u001b[0m\u001b[0;34m.\u001b[0m\u001b[0mload_weights\u001b[0m\u001b[0;34m(\u001b[0m\u001b[0;34m'/com.docker.devenvironments.code/Checkpoints/cp.ckpt'\u001b[0m\u001b[0;34m)\u001b[0m\u001b[0;34m\u001b[0m\u001b[0;34m\u001b[0m\u001b[0m\n\u001b[1;32m      4\u001b[0m \u001b[0mmodel\u001b[0m\u001b[0;34m.\u001b[0m\u001b[0mcompile\u001b[0m\u001b[0;34m(\u001b[0m\u001b[0moptimizer\u001b[0m\u001b[0;34m=\u001b[0m\u001b[0madam\u001b[0m\u001b[0;34m,\u001b[0m \u001b[0mloss\u001b[0m\u001b[0;34m=\u001b[0m\u001b[0;34m'categorical_crossentropy'\u001b[0m\u001b[0;34m,\u001b[0m \u001b[0mmetrics\u001b[0m\u001b[0;34m=\u001b[0m\u001b[0;34m[\u001b[0m\u001b[0;34m'accuracy'\u001b[0m\u001b[0;34m]\u001b[0m\u001b[0;34m)\u001b[0m\u001b[0;34m\u001b[0m\u001b[0;34m\u001b[0m\u001b[0m\n\u001b[1;32m      5\u001b[0m \u001b[0mmodel\u001b[0m\u001b[0;34m.\u001b[0m\u001b[0msummary\u001b[0m\u001b[0;34m(\u001b[0m\u001b[0;34m)\u001b[0m\u001b[0;34m\u001b[0m\u001b[0;34m\u001b[0m\u001b[0m\n",
      "\u001b[0;32m/tmp/ipykernel_15266/2964040090.py\u001b[0m in \u001b[0;36memotion_recognition\u001b[0;34m(input_shape)\u001b[0m\n\u001b[1;32m     39\u001b[0m \u001b[0;34m\u001b[0m\u001b[0m\n\u001b[1;32m     40\u001b[0m   \u001b[0mmodel\u001b[0m \u001b[0;34m=\u001b[0m \u001b[0mModel\u001b[0m\u001b[0;34m(\u001b[0m\u001b[0minputs\u001b[0m\u001b[0;34m=\u001b[0m\u001b[0mX_input\u001b[0m\u001b[0;34m,\u001b[0m \u001b[0moutputs\u001b[0m\u001b[0;34m=\u001b[0m\u001b[0mX\u001b[0m\u001b[0;34m)\u001b[0m\u001b[0;34m\u001b[0m\u001b[0;34m\u001b[0m\u001b[0m\n\u001b[0;32m---> 41\u001b[0;31m   \u001b[0mmodel\u001b[0m \u001b[0;34m=\u001b[0m \u001b[0mmodel\u001b[0m\u001b[0;34m.\u001b[0m\u001b[0madd\u001b[0m\u001b[0;34m(\u001b[0m\u001b[0mbase_model\u001b[0m\u001b[0;34m)\u001b[0m\u001b[0;34m\u001b[0m\u001b[0;34m\u001b[0m\u001b[0m\n\u001b[0m\u001b[1;32m     42\u001b[0m \u001b[0;34m\u001b[0m\u001b[0m\n\u001b[1;32m     43\u001b[0m   \u001b[0;32mreturn\u001b[0m \u001b[0mmodel\u001b[0m\u001b[0;34m\u001b[0m\u001b[0;34m\u001b[0m\u001b[0m\n",
      "\u001b[0;31mAttributeError\u001b[0m: 'Functional' object has no attribute 'add'"
     ]
    }
   ],
   "source": [
    "model = emotion_recognition((48,48,1))\n",
    "adam = tf.keras.optimizers.Adam(learning_rate=0.0001)\n",
    "model.load_weights('/com.docker.devenvironments.code/Checkpoints/cp.ckpt')\n",
    "model.compile(optimizer=adam, loss='categorical_crossentropy', metrics=['accuracy'])\n",
    "model.summary()"
   ]
  },
  {
   "cell_type": "code",
   "execution_count": null,
   "metadata": {},
   "outputs": [],
   "source": [
    "y_train = to_categorical(Y_train, num_classes=7)\n",
    "y_test = to_categorical(Y_test, num_classes=7)\n"
   ]
  },
  {
   "cell_type": "code",
   "execution_count": null,
   "metadata": {},
   "outputs": [],
   "source": [
    "label_dict = {0 : 'Angry', 1 : 'Disgust', 2 : 'Fear', 3 : 'Happiness', 4 : 'Sad', 5 : 'Surprise', 6 : 'Neutral'}\n"
   ]
  },
  {
   "cell_type": "code",
   "execution_count": null,
   "metadata": {},
   "outputs": [],
   "source": [
    "preds = model.predict(X_train)\n",
    "def get_class(preds):\n",
    "  pred_class = np.zeros((preds.shape[0],1))\n",
    "\n",
    "  for i in range(len(preds)):\n",
    "   pred_class[i] = np.argmax(preds[i])\n",
    "\n",
    "  return pred_class\n",
    "\n",
    "pred_class_train = get_class(preds)"
   ]
  },
  {
   "cell_type": "code",
   "execution_count": null,
   "metadata": {},
   "outputs": [],
   "source": [
    "# DO NOT RUN AGAIN AS SAVED TRAINING CHECKPOINT IS LOADED\n",
    "\n",
    "#checkpoint_path = \"/com.docker.devenvironments.code/Checkpoints/cp.ckpt\"\n",
    "#checkpoint_dir = os.path.dirname(checkpoint_path)\n",
    "#cp_callback = tf.keras.callbacks.ModelCheckpoint(filepath=checkpoint_path, save_weights_only=True, verbose=1)\n",
    "\n",
    "#model.fit(X_train, y_train, epochs = 30, validation_data=(X_test,y_test), callbacks=[cp_callback])"
   ]
  },
  {
   "cell_type": "code",
   "execution_count": null,
   "metadata": {},
   "outputs": [],
   "source": [
    "test_image_count = len(os.listdir('/com.docker.devenvironments.code/fer2013/RandomImages'))\n",
    "print('There are ' + str(test_image_count) + ' images in the testing folder')\n",
    "\n",
    "test_image = random.choice(os.listdir('/com.docker.devenvironments.code/fer2013/RandomImages'))\n",
    "\n",
    "img_path = ('/com.docker.devenvironments.code/fer2013/RandomImages/' + test_image)\n",
    "#img_path2 = ('/com.docker.devenvironments.code/fer2013/RandomImages/')\n",
    "img = image.load_img(img_path, grayscale=True, target_size=(48,48,1))\n",
    "#img_new = str(img_path2)\n",
    "'''i = 0\n",
    "for file in os.listdir(img_path2):\n",
    "    filename = os.fsdecode(file)\n",
    "    img_new = os.path.join(img_path2, filename)\n",
    "    img2 = image.load_img(img_new, grayscale=True, target_size=(48,48,1))\n",
    "    x = image.img_to_array(img2)\n",
    "    x = np.expand_dims(x, axis=0)\n",
    "    prediction = np.argmax(model.predict(x))\n",
    "    print('The predicted emotion is : ' + label_dict[prediction])\n",
    "    my_image = image.load_img(img_new)\n",
    "    plt.imshow(my_image)\n",
    "    i = i + 1\n",
    "    \n",
    "print (i)'''\n",
    "\n",
    "\n",
    "x = image.img_to_array(img)\n",
    "x = np.expand_dims(x, axis=0)\n",
    "\n",
    "prediction = np.argmax(model.predict(x))\n",
    "print('The predicted emotion is : ' + label_dict[prediction])\n",
    "my_image = image.load_img(img_path)\n",
    "plt.imshow(my_image)\n",
    "\n"
   ]
  }
 ],
 "metadata": {
  "interpreter": {
   "hash": "31f2aee4e71d21fbe5cf8b01ff0e069b9275f58929596ceb00d14d90e3e16cd6"
  },
  "kernelspec": {
   "display_name": "Python 3.7.3 64-bit",
   "language": "python",
   "name": "python3"
  },
  "language_info": {
   "codemirror_mode": {
    "name": "ipython",
    "version": 3
   },
   "file_extension": ".py",
   "mimetype": "text/x-python",
   "name": "python",
   "nbconvert_exporter": "python",
   "pygments_lexer": "ipython3",
   "version": "3.7.3"
  },
  "orig_nbformat": 4
 },
 "nbformat": 4,
 "nbformat_minor": 2
}
