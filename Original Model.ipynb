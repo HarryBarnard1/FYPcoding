{
 "cells": [
  {
   "cell_type": "code",
   "execution_count": 15,
   "metadata": {},
   "outputs": [],
   "source": [
    "import cv2\n",
    "import numpy as np\n",
    "import os\n",
    "from keras.preprocessing.image import ImageDataGenerator\n",
    "from keras import backend as K\n",
    "import keras\n",
    "from keras.models import Sequential, Model,load_model\n",
    "#from keras.optimizers import SGD\n",
    "from keras.callbacks import EarlyStopping,ModelCheckpoint\n",
    "from keras.layers import Input, Add, Dense, Activation, ZeroPadding2D, BatchNormalization, Flatten, Conv2D, AveragePooling2D, MaxPooling2D, GlobalMaxPooling2D,MaxPool2D, Dropout\n",
    "from keras.preprocessing import image\n",
    "from keras.initializers import glorot_uniform\n",
    "from tensorflow.keras.applications.resnet50 import preprocess_input\n",
    "import pandas as pd\n",
    "from PIL import Image\n",
    "import numpy as np\n",
    "import matplotlib.pyplot as plt\n",
    "from tensorflow import keras\n",
    "import tensorflow as tf\n",
    "from sklearn.model_selection import train_test_split\n",
    "from tensorflow.keras.utils import to_categorical\n",
    "from sklearn.metrics import classification_report\n",
    "from imblearn.over_sampling import RandomOverSampler\n",
    "import scipy\n",
    "import random\n",
    "import gc\n",
    "import glob\n",
    "from keras.utils.vis_utils import plot_model\n"
   ]
  },
  {
   "cell_type": "code",
   "execution_count": 16,
   "metadata": {},
   "outputs": [],
   "source": [
    "#Read in CSV file for FER2013 data to be manipulated.\n",
    "data = pd.read_csv('/com.docker.devenvironments.code/fer2013/icml_face_data.csv')"
   ]
  },
  {
   "cell_type": "code",
   "execution_count": 17,
   "metadata": {},
   "outputs": [],
   "source": [
    "#Define which CSV data is image data and which is label data.\n",
    "pixel_data = data[' pixels']\n",
    "label_data = data['emotion']"
   ]
  },
  {
   "cell_type": "code",
   "execution_count": 18,
   "metadata": {},
   "outputs": [
    {
     "data": {
      "text/plain": [
       "35887"
      ]
     },
     "execution_count": 18,
     "metadata": {},
     "output_type": "execute_result"
    }
   ],
   "source": [
    "#Print number of images that can be generated from CSV data. \n",
    "len(label_data)"
   ]
  },
  {
   "cell_type": "code",
   "execution_count": 19,
   "metadata": {},
   "outputs": [],
   "source": [
    "#Pre-process the CSV data and reshape it into a 48x48 image.\n",
    "def preprocess_pixels(pixel_data):\n",
    "  images = []\n",
    "  for i in range(len(pixel_data)):\n",
    "    img = np.fromstring(pixel_data[i], dtype='int', sep=' ')\n",
    "    img = img.reshape(48,48,1)\n",
    "    images.append(img)\n",
    "\n",
    "  X = np.array(images)\n",
    "  return X\n",
    "\n"
   ]
  },
  {
   "cell_type": "code",
   "execution_count": 20,
   "metadata": {},
   "outputs": [],
   "source": [
    "#Duplicate data for emotion classes with lower samples, 'auto' means all will have the same number of examples.\n",
    "\n",
    "oversampler = RandomOverSampler(sampling_strategy='auto')\n",
    "\n",
    "X_over, Y_over = oversampler.fit_resample(pixel_data.values.reshape(-1,1), label_data)"
   ]
  },
  {
   "cell_type": "code",
   "execution_count": 21,
   "metadata": {},
   "outputs": [
    {
     "data": {
      "text/plain": [
       "0        70 80 82 72 58 58 60 63 54 58 60 48 89 115 121...\n",
       "1        151 150 147 155 148 133 111 140 170 174 182 15...\n",
       "2        231 212 156 164 174 138 161 173 182 200 106 38...\n",
       "3        24 32 36 30 32 23 19 20 30 41 21 22 32 34 21 1...\n",
       "4        4 0 0 0 0 0 0 0 0 0 0 0 3 15 23 28 48 50 58 84...\n",
       "                               ...                        \n",
       "62918    162 163 165 166 114 72 79 115 153 174 204 205 ...\n",
       "62919    253 252 252 250 249 253 252 244 229 208 149 93...\n",
       "62920    50 9 10 6 5 5 5 5 5 4 7 7 13 25 29 37 53 64 69...\n",
       "62921    66 70 58 12 11 27 31 27 38 53 29 9 15 9 10 13 ...\n",
       "62922    10 10 14 18 10 13 20 18 18 19 16 14 19 14 14 1...\n",
       "Length: 62923, dtype: object"
      ]
     },
     "execution_count": 21,
     "metadata": {},
     "output_type": "execute_result"
    }
   ],
   "source": [
    "#Test that the reshaped data fits a 48x48 image.\n",
    "X_over_series = pd.Series(X_over.flatten())\n",
    "X_over_series"
   ]
  },
  {
   "cell_type": "code",
   "execution_count": 22,
   "metadata": {},
   "outputs": [],
   "source": [
    "#Preprocess data and turn into image form.\n",
    "X = preprocess_pixels(X_over_series)\n",
    "Y = Y_over"
   ]
  },
  {
   "cell_type": "code",
   "execution_count": 23,
   "metadata": {},
   "outputs": [
    {
     "data": {
      "text/plain": [
       "(62923, 1)"
      ]
     },
     "execution_count": 23,
     "metadata": {},
     "output_type": "execute_result"
    }
   ],
   "source": [
    "Y = Y_over.values.reshape(Y.shape[0],1)\n",
    "Y.shape"
   ]
  },
  {
   "cell_type": "code",
   "execution_count": 24,
   "metadata": {},
   "outputs": [
    {
     "name": "stdout",
     "output_type": "stream",
     "text": [
      "(56630, 48, 48, 1) (56630, 1)\n"
     ]
    }
   ],
   "source": [
    "X_train, X_test, Y_train, Y_test = train_test_split(X, Y, test_size = 0.1, random_state = 45)\n",
    "print(X_train.shape, Y_train.shape)"
   ]
  },
  {
   "cell_type": "code",
   "execution_count": 25,
   "metadata": {},
   "outputs": [
    {
     "data": {
      "text/plain": [
       "<matplotlib.image.AxesImage at 0x7fba3ed2eac8>"
      ]
     },
     "execution_count": 25,
     "metadata": {},
     "output_type": "execute_result"
    },
    {
     "data": {
      "image/png": "[encoded data removed]",
      "text/plain": [
       "<Figure size 432x288 with 1 Axes>"
      ]
     },
     "metadata": {
      "needs_background": "light"
     },
     "output_type": "display_data"
    }
   ],
   "source": [
    "#Test random image from dataset and display it to check that it has formed an image.\n",
    "plt.imshow(X[25000,:,:,0])"
   ]
  },
  {
   "cell_type": "code",
   "execution_count": 26,
   "metadata": {},
   "outputs": [],
   "source": [
    "#Define the model.\n",
    "def emotion_recognition(input_shape):\n",
    "\n",
    "  X_input = Input(input_shape)\n",
    "\n",
    "  X = Conv2D(32, kernel_size=(3,3), strides=(1,1), padding='valid')(X_input)\n",
    "  X = BatchNormalization(axis=3)(X)\n",
    "  X = Activation('relu')(X)\n",
    "\n",
    "\n",
    "  X = Conv2D(64, (3,3), strides=(1,1), padding = 'same')(X)\n",
    "  X = BatchNormalization(axis=3)(X)\n",
    "  X = Activation('relu')(X)\n",
    "\n",
    "  X = MaxPooling2D((2,2))(X)\n",
    "\n",
    "  X = Conv2D(64, (3,3), strides=(1,1), padding = 'valid')(X)\n",
    "  X = BatchNormalization(axis=3)(X)\n",
    "  X = Activation('relu')(X)\n",
    "\n",
    "  X = Conv2D(128, (3,3), strides=(1,1), padding = 'same')(X)\n",
    "  X = BatchNormalization(axis=3)(X)\n",
    "  X = Activation('relu')(X)\n",
    "\n",
    "\n",
    "  X = MaxPooling2D((2,2))(X)\n",
    "\n",
    "  X = Conv2D(128, (3,3), strides=(1,1), padding = 'valid')(X)\n",
    "  X = BatchNormalization(axis=3)(X)\n",
    "  X = Activation('relu')(X)\n",
    "\n",
    " \n",
    "\n",
    "  X = MaxPooling2D((2,2))(X)\n",
    "  X = Flatten()(X)\n",
    "  X = Dense(200, activation='relu')(X)\n",
    "  X = Dropout(0.6)(X)\n",
    "  X = Dense(7, activation = 'softmax')(X)\n",
    "  \n",
    "  model = Model(inputs=X_input, outputs=X)\n",
    "  \n",
    "\n",
    "  return model"
   ]
  },
  {
   "cell_type": "code",
   "execution_count": 27,
   "metadata": {},
   "outputs": [
    {
     "name": "stdout",
     "output_type": "stream",
     "text": [
      "Model: \"model\"\n",
      "_________________________________________________________________\n",
      " Layer (type)                Output Shape              Param #   \n",
      "=================================================================\n",
      " input_1 (InputLayer)        [(None, 48, 48, 1)]       0         \n",
      "                                                                 \n",
      " conv2d (Conv2D)             (None, 46, 46, 32)        320       \n",
      "                                                                 \n",
      " batch_normalization (BatchN  (None, 46, 46, 32)       128       \n",
      " ormalization)                                                   \n",
      "                                                                 \n",
      " activation (Activation)     (None, 46, 46, 32)        0         \n",
      "                                                                 \n",
      " conv2d_1 (Conv2D)           (None, 46, 46, 64)        18496     \n",
      "                                                                 \n",
      " batch_normalization_1 (Batc  (None, 46, 46, 64)       256       \n",
      " hNormalization)                                                 \n",
      "                                                                 \n",
      " activation_1 (Activation)   (None, 46, 46, 64)        0         \n",
      "                                                                 \n",
      " max_pooling2d (MaxPooling2D  (None, 23, 23, 64)       0         \n",
      " )                                                               \n",
      "                                                                 \n",
      " conv2d_2 (Conv2D)           (None, 21, 21, 64)        36928     \n",
      "                                                                 \n",
      " batch_normalization_2 (Batc  (None, 21, 21, 64)       256       \n",
      " hNormalization)                                                 \n",
      "                                                                 \n",
      " activation_2 (Activation)   (None, 21, 21, 64)        0         \n",
      "                                                                 \n",
      " conv2d_3 (Conv2D)           (None, 21, 21, 128)       73856     \n",
      "                                                                 \n",
      " batch_normalization_3 (Batc  (None, 21, 21, 128)      512       \n",
      " hNormalization)                                                 \n",
      "                                                                 \n",
      " activation_3 (Activation)   (None, 21, 21, 128)       0         \n",
      "                                                                 \n",
      " max_pooling2d_1 (MaxPooling  (None, 10, 10, 128)      0         \n",
      " 2D)                                                             \n",
      "                                                                 \n",
      " conv2d_4 (Conv2D)           (None, 8, 8, 128)         147584    \n",
      "                                                                 \n",
      " batch_normalization_4 (Batc  (None, 8, 8, 128)        512       \n",
      " hNormalization)                                                 \n",
      "                                                                 \n",
      " activation_4 (Activation)   (None, 8, 8, 128)         0         \n",
      "                                                                 \n",
      " max_pooling2d_2 (MaxPooling  (None, 4, 4, 128)        0         \n",
      " 2D)                                                             \n",
      "                                                                 \n",
      " flatten (Flatten)           (None, 2048)              0         \n",
      "                                                                 \n",
      " dense (Dense)               (None, 200)               409800    \n",
      "                                                                 \n",
      " dropout (Dropout)           (None, 200)               0         \n",
      "                                                                 \n",
      " dense_1 (Dense)             (None, 7)                 1407      \n",
      "                                                                 \n",
      "=================================================================\n",
      "Total params: 690,055\n",
      "Trainable params: 689,223\n",
      "Non-trainable params: 832\n",
      "_________________________________________________________________\n"
     ]
    },
    {
     "name": "stderr",
     "output_type": "stream",
     "text": [
      "2022-04-23 01:52:16.895799: E tensorflow/stream_executor/cuda/cuda_driver.cc:271] failed call to cuInit: CUDA_ERROR_NO_DEVICE: no CUDA-capable device is detected\n",
      "2022-04-23 01:52:16.895921: I tensorflow/stream_executor/cuda/cuda_diagnostics.cc:156] kernel driver does not appear to be running on this host (0784c8593a21): /proc/driver/nvidia/version does not exist\n",
      "2022-04-23 01:52:16.897896: I tensorflow/core/platform/cpu_feature_guard.cc:151] This TensorFlow binary is optimized with oneAPI Deep Neural Network Library (oneDNN) to use the following CPU instructions in performance-critical operations:  AVX2 FMA\n",
      "To enable them in other operations, rebuild TensorFlow with the appropriate compiler flags.\n"
     ]
    }
   ],
   "source": [
    "#Load weights from training, define learning rate and compile model.\n",
    "model = emotion_recognition((48,48,1))\n",
    "adam = tf.keras.optimizers.Adam(learning_rate=0.0001)\n",
    "#model.load_weights('/com.docker.devenvironments.code/Checkpoints/cp.ckpt')\n",
    "\n",
    "model.compile(optimizer=adam, loss='categorical_crossentropy', metrics=['accuracy'])\n",
    "model.summary()"
   ]
  },
  {
   "cell_type": "code",
   "execution_count": 28,
   "metadata": {},
   "outputs": [],
   "source": [
    "#Hot encode labels before training.\n",
    "y_train = to_categorical(Y_train, num_classes=7)\n",
    "y_test = to_categorical(Y_test, num_classes=7)\n"
   ]
  },
  {
   "cell_type": "code",
   "execution_count": 29,
   "metadata": {},
   "outputs": [],
   "source": [
    "#Define what each result from the prediction function means for each emotion.\n",
    "label_dict = {0 : 'Angry', 1 : 'Disgust', 2 : 'Fear', 3 : 'Happiness', 4 : 'Sad', 5 : 'Surprise', 6 : 'Neutral'}\n"
   ]
  },
  {
   "cell_type": "code",
   "execution_count": 30,
   "metadata": {},
   "outputs": [
    {
     "name": "stderr",
     "output_type": "stream",
     "text": [
      "2022-04-23 01:52:17.376893: W tensorflow/core/framework/cpu_allocator_impl.cc:82] Allocation of 1043804160 exceeds 10% of free system memory.\n"
     ]
    }
   ],
   "source": [
    "#Prediction function, returns the vector of image label, as well as index of image location.\n",
    "preds = model.predict(X_train)\n",
    "def get_class(preds):\n",
    "  pred_class = np.zeros((preds.shape[0],1))\n",
    "\n",
    "  for i in range(len(preds)):\n",
    "   pred_class[i] = np.argmax(preds[i])\n",
    "\n",
    "  return pred_class\n",
    "\n",
    "pred_class_train = get_class(preds)"
   ]
  },
  {
   "cell_type": "code",
   "execution_count": 31,
   "metadata": {},
   "outputs": [
    {
     "name": "stdout",
     "output_type": "stream",
     "text": [
      "Epoch 1/30\n"
     ]
    },
    {
     "name": "stderr",
     "output_type": "stream",
     "text": [
      "2022-04-23 01:52:58.193846: W tensorflow/core/framework/cpu_allocator_impl.cc:82] Allocation of 1043804160 exceeds 10% of free system memory.\n"
     ]
    },
    {
     "name": "stdout",
     "output_type": "stream",
     "text": [
      "1000/1000 [==============================] - 252s 251ms/step - loss: 1.7737 - accuracy: 0.3089 - val_loss: 1.4689 - val_accuracy: 0.4654\n",
      "Epoch 2/30\n",
      "1000/1000 [==============================] - 269s 269ms/step - loss: 1.4470 - accuracy: 0.4484 - val_loss: 1.2491 - val_accuracy: 0.5325\n",
      "Epoch 3/30\n",
      "1000/1000 [==============================] - 257s 257ms/step - loss: 1.2531 - accuracy: 0.5245 - val_loss: 1.1250 - val_accuracy: 0.5703\n",
      "Epoch 4/30\n",
      "1000/1000 [==============================] - 254s 254ms/step - loss: 1.1252 - accuracy: 0.5731 - val_loss: 1.0150 - val_accuracy: 0.6174\n",
      "Epoch 5/30\n",
      "1000/1000 [==============================] - 255s 255ms/step - loss: 1.0277 - accuracy: 0.6118 - val_loss: 0.9449 - val_accuracy: 0.6455\n",
      "Epoch 6/30\n",
      "1000/1000 [==============================] - 254s 254ms/step - loss: 0.9493 - accuracy: 0.6418 - val_loss: 1.0658 - val_accuracy: 0.5830\n",
      "Epoch 7/30\n",
      "1000/1000 [==============================] - 255s 255ms/step - loss: 0.8767 - accuracy: 0.6706 - val_loss: 0.8550 - val_accuracy: 0.6798\n",
      "Epoch 8/30\n",
      "1000/1000 [==============================] - 254s 254ms/step - loss: 0.8118 - accuracy: 0.6966 - val_loss: 0.9020 - val_accuracy: 0.6566\n",
      "Epoch 9/30\n",
      "1000/1000 [==============================] - 253s 253ms/step - loss: 0.7525 - accuracy: 0.7198 - val_loss: 0.7969 - val_accuracy: 0.7017\n",
      "Epoch 10/30\n",
      "1000/1000 [==============================] - 253s 253ms/step - loss: 0.6813 - accuracy: 0.7493 - val_loss: 0.7708 - val_accuracy: 0.7200\n",
      "Epoch 11/30\n",
      "1000/1000 [==============================] - 263s 263ms/step - loss: 0.6309 - accuracy: 0.7674 - val_loss: 0.7335 - val_accuracy: 0.7338\n",
      "Epoch 12/30\n",
      "1000/1000 [==============================] - 252s 252ms/step - loss: 0.5698 - accuracy: 0.7931 - val_loss: 0.7622 - val_accuracy: 0.7307\n",
      "Epoch 13/30\n",
      "1000/1000 [==============================] - 253s 252ms/step - loss: 0.5207 - accuracy: 0.8124 - val_loss: 0.7301 - val_accuracy: 0.7470\n",
      "Epoch 14/30\n",
      "1000/1000 [==============================] - 254s 254ms/step - loss: 0.4720 - accuracy: 0.8313 - val_loss: 0.7440 - val_accuracy: 0.7613\n",
      "Epoch 15/30\n",
      "1000/1000 [==============================] - 252s 252ms/step - loss: 0.4277 - accuracy: 0.8475 - val_loss: 0.6952 - val_accuracy: 0.7734\n",
      "Epoch 16/30\n",
      "1000/1000 [==============================] - 250s 250ms/step - loss: 0.3884 - accuracy: 0.8642 - val_loss: 0.6453 - val_accuracy: 0.7996\n",
      "Epoch 17/30\n",
      "1000/1000 [==============================] - 229s 229ms/step - loss: 0.3456 - accuracy: 0.8792 - val_loss: 0.6902 - val_accuracy: 0.7969\n",
      "Epoch 18/30\n",
      "1000/1000 [==============================] - 247s 247ms/step - loss: 0.3182 - accuracy: 0.8890 - val_loss: 0.6923 - val_accuracy: 0.7928\n",
      "Epoch 19/30\n",
      "1000/1000 [==============================] - 254s 254ms/step - loss: 0.2833 - accuracy: 0.9006 - val_loss: 0.6714 - val_accuracy: 0.8031\n",
      "Epoch 20/30\n",
      "1000/1000 [==============================] - 252s 252ms/step - loss: 0.2512 - accuracy: 0.9128 - val_loss: 0.7435 - val_accuracy: 0.7931\n",
      "Epoch 21/30\n",
      "1000/1000 [==============================] - 253s 253ms/step - loss: 0.2375 - accuracy: 0.9176 - val_loss: 0.6990 - val_accuracy: 0.8166\n",
      "Epoch 22/30\n",
      "1000/1000 [==============================] - 254s 254ms/step - loss: 0.2191 - accuracy: 0.9242 - val_loss: 0.7282 - val_accuracy: 0.8074\n",
      "Epoch 23/30\n",
      "1000/1000 [==============================] - 252s 252ms/step - loss: 0.1948 - accuracy: 0.9338 - val_loss: 0.7621 - val_accuracy: 0.8147\n",
      "Epoch 24/30\n",
      "1000/1000 [==============================] - 252s 252ms/step - loss: 0.1830 - accuracy: 0.9386 - val_loss: 0.8069 - val_accuracy: 0.8117\n",
      "Epoch 25/30\n",
      "1000/1000 [==============================] - 253s 253ms/step - loss: 0.1643 - accuracy: 0.9445 - val_loss: 0.7424 - val_accuracy: 0.8257\n",
      "Epoch 26/30\n",
      "1000/1000 [==============================] - 252s 252ms/step - loss: 0.1578 - accuracy: 0.9462 - val_loss: 0.7943 - val_accuracy: 0.8214\n",
      "Epoch 27/30\n",
      "1000/1000 [==============================] - 252s 252ms/step - loss: 0.1450 - accuracy: 0.9503 - val_loss: 0.7519 - val_accuracy: 0.8303\n",
      "Epoch 28/30\n",
      "1000/1000 [==============================] - 251s 251ms/step - loss: 0.1384 - accuracy: 0.9531 - val_loss: 0.8086 - val_accuracy: 0.8341\n",
      "Epoch 29/30\n",
      "1000/1000 [==============================] - 253s 253ms/step - loss: 0.1312 - accuracy: 0.9554 - val_loss: 0.8650 - val_accuracy: 0.8157\n",
      "Epoch 30/30\n",
      " 820/1000 [=======================>......] - ETA: 44s - loss: 0.1225 - accuracy: 0.9591WARNING:tensorflow:Your input ran out of data; interrupting training. Make sure that your dataset or generator can generate at least `steps_per_epoch * epochs` batches (in this case, 30000 batches). You may need to use the repeat() function when building your dataset.\n",
      "1000/1000 [==============================] - 208s 208ms/step - loss: 0.1225 - accuracy: 0.9591 - val_loss: 0.8940 - val_accuracy: 0.8185\n"
     ]
    },
    {
     "name": "stderr",
     "output_type": "stream",
     "text": [
      "2022-04-23 03:58:41.175930: W tensorflow/python/util/util.cc:368] Sets are not currently considered sequences, but this may change in the future, so consider avoiding using them.\n"
     ]
    },
    {
     "name": "stdout",
     "output_type": "stream",
     "text": [
      "INFO:tensorflow:Assets written to: Original Model/assets\n"
     ]
    }
   ],
   "source": [
    "# DO NOT RUN AGAIN AS SAVED TRAINING CHECKPOINT IS LOADED\n",
    "\n",
    "#checkpoint_path = \"/com.docker.devenvironments.code/Checkpoints/cp.ckpt\"\n",
    "#checkpoint_dir = os.path.dirname(checkpoint_path)\n",
    "#cp_callback = tf.keras.callbacks.ModelCheckpoint(filepath=checkpoint_path, save_weights_only=True, verbose=1)\n",
    "\n",
    "#Model_Results = model.fit(X_train, y_train, epochs = 30, steps_per_epoch=1000, validation_data=(X_test,y_test))\n",
    "#model.save('Original Model')\n"
   ]
  },
  {
   "cell_type": "code",
   "execution_count": 32,
   "metadata": {},
   "outputs": [
    {
     "name": "stdout",
     "output_type": "stream",
     "text": [
      "INFO:tensorflow:Assets written to: Original Model/assets\n"
     ]
    }
   ],
   "source": [
    "#Save model so that re-training isnt necessary.\n",
    "model.save('Original Model')"
   ]
  },
  {
   "cell_type": "code",
   "execution_count": 33,
   "metadata": {},
   "outputs": [
    {
     "name": "stdout",
     "output_type": "stream",
     "text": [
      "There are 7178 images in the testing folder\n",
      "The predicted emotion is : Fear\n"
     ]
    },
    {
     "name": "stderr",
     "output_type": "stream",
     "text": [
      "/home/vscode/.local/lib/python3.7/site-packages/keras_preprocessing/image/utils.py:107: UserWarning: grayscale is deprecated. Please use color_mode = \"grayscale\"\n",
      "  warnings.warn('grayscale is deprecated. Please use '\n"
     ]
    },
    {
     "data": {
      "text/plain": [
       "<matplotlib.image.AxesImage at 0x7fb9834a5518>"
      ]
     },
     "execution_count": 33,
     "metadata": {},
     "output_type": "execute_result"
    },
    {
     "data": {
      "image/png": "[encoded data removed]",
      "text/plain": [
       "<Figure size 432x288 with 1 Axes>"
      ]
     },
     "metadata": {
      "needs_background": "light"
     },
     "output_type": "display_data"
    }
   ],
   "source": [
    "#Pick a random image from the RandomImages folder, containing all test images from FER2013, not from CSV data.\n",
    "test_image_count = len(os.listdir('/com.docker.devenvironments.code/fer2013/RandomImages'))\n",
    "print('There are ' + str(test_image_count) + ' images in the testing folder')\n",
    "\n",
    "test_image = random.choice(os.listdir('/com.docker.devenvironments.code/fer2013/RandomImages'))\n",
    "img_path = ('/com.docker.devenvironments.code/fer2013/RandomImages/' + test_image)\n",
    "#Load the selected image\n",
    "img = image.load_img(img_path, grayscale=True, target_size=(48,48,1))\n",
    "\n",
    "#Translate image into array form so it can be fed into the prediction function.\n",
    "x = image.img_to_array(img)\n",
    "x = np.expand_dims(x, axis=0)\n",
    "\n",
    "prediction = np.argmax(model.predict(x))\n",
    "\n",
    "#Display the image and the predicted emotion as an output.\n",
    "print('The predicted emotion is : ' + label_dict[prediction])\n",
    "my_image = image.load_img(img_path)\n",
    "plt.imshow(my_image)\n",
    "\n"
   ]
  },
  {
   "cell_type": "code",
   "execution_count": 34,
   "metadata": {},
   "outputs": [],
   "source": [
    "#Load the saved model.\n",
    "model = load_model('Original Model')"
   ]
  },
  {
   "cell_type": "code",
   "execution_count": 35,
   "metadata": {},
   "outputs": [
    {
     "name": "stdout",
     "output_type": "stream",
     "text": [
      "25/25 [==============================] - 6s 216ms/step - loss: 0.8940 - accuracy: 0.8185\n",
      "test loss, test acc [0.8940480947494507, 0.8185285329818726]\n"
     ]
    }
   ],
   "source": [
    "#Evaluate on Test Data, quickly runs a batch of data through the model to test accuracy and loss:\n",
    "results = model.evaluate(X_test, y_test, batch_size = 256)\n",
    "print(\"test loss, test acc\",results)"
   ]
  },
  {
   "cell_type": "code",
   "execution_count": 36,
   "metadata": {},
   "outputs": [
    {
     "data": {
      "text/plain": [
       "<matplotlib.legend.Legend at 0x7fb981bf2cc0>"
      ]
     },
     "execution_count": 36,
     "metadata": {},
     "output_type": "execute_result"
    },
    {
     "data": {
      "image/png": "[encoded data removed]",
      "text/plain": [
       "<Figure size 432x288 with 1 Axes>"
      ]
     },
     "metadata": {
      "needs_background": "light"
     },
     "output_type": "display_data"
    }
   ],
   "source": [
    "#Plot graphs for accuracy and loss, can ONLY be done in the same execution as training since Model_Result doesnt save.\n",
    "#plt.subplot(2,1,1)\n",
    "#plt.plot(Model_Results.history['accuracy'])\n",
    "#plt.plot(Model_Results.history['val_accuracy'])\n",
    "#plt.title('Original Model - Accuracy')\n",
    "#plt.ylabel('accuracy')\n",
    "#plt.xlabel('epoch')\n",
    "#plt.legend(['train', 'test'], loc = 'lower right')"
   ]
  },
  {
   "cell_type": "code",
   "execution_count": 37,
   "metadata": {},
   "outputs": [
    {
     "data": {
      "text/plain": [
       "<matplotlib.legend.Legend at 0x7fb981ba1588>"
      ]
     },
     "execution_count": 37,
     "metadata": {},
     "output_type": "execute_result"
    },
    {
     "data": {
      "image/png": "[encoded data removed]",
      "text/plain": [
       "<Figure size 432x288 with 1 Axes>"
      ]
     },
     "metadata": {
      "needs_background": "light"
     },
     "output_type": "display_data"
    }
   ],
   "source": [
    "#plt.subplot(2,1,2)\n",
    "#plt.plot(Model_Results.history['loss'])\n",
    "#plt.plot(Model_Results.history['val_loss'])\n",
    "#plt.title('Original Model - Loss')\n",
    "#plt.ylabel('loss')\n",
    "#plt.xlabel('epoch')\n",
    "#plt.legend(['train', 'test'], loc = 'upper right')\n"
   ]
  }
 ],
 "metadata": {
  "interpreter": {
   "hash": "31f2aee4e71d21fbe5cf8b01ff0e069b9275f58929596ceb00d14d90e3e16cd6"
  },
  "kernelspec": {
   "display_name": "Python 3.7.3 64-bit",
   "language": "python",
   "name": "python3"
  },
  "language_info": {
   "codemirror_mode": {
    "name": "ipython",
    "version": 3
   },
   "file_extension": ".py",
   "mimetype": "text/x-python",
   "name": "python",
   "nbconvert_exporter": "python",
   "pygments_lexer": "ipython3",
   "version": "3.7.3"
  },
  "orig_nbformat": 4
 },
 "nbformat": 4,
 "nbformat_minor": 2
}
