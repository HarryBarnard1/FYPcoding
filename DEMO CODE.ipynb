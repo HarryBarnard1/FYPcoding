{
 "cells": [
  {
   "cell_type": "code",
   "execution_count": 89,
   "metadata": {},
   "outputs": [],
   "source": [
    "import cv2\n",
    "import numpy as np\n",
    "import os\n",
    "from keras.preprocessing.image import ImageDataGenerator\n",
    "from keras import backend as K\n",
    "import keras\n",
    "from keras.models import Sequential, Model,load_model\n",
    "#from keras.optimizers import SGD\n",
    "from keras.callbacks import EarlyStopping,ModelCheckpoint\n",
    "from keras.layers import Input, Add, Dense, Activation, ZeroPadding2D, BatchNormalization, Flatten, Conv2D, AveragePooling2D, MaxPooling2D, GlobalMaxPooling2D,MaxPool2D, Dropout\n",
    "from keras.preprocessing import image\n",
    "from keras.initializers import glorot_uniform\n",
    "from tensorflow.keras.applications.resnet50 import preprocess_input\n",
    "import pandas as pd\n",
    "from PIL import Image\n",
    "import numpy as np\n",
    "import matplotlib.pyplot as plt\n",
    "from tensorflow import keras\n",
    "import tensorflow as tf\n",
    "from sklearn.model_selection import train_test_split\n",
    "from tensorflow.keras.utils import to_categorical\n",
    "from sklearn.metrics import classification_report\n",
    "from imblearn.over_sampling import RandomOverSampler\n",
    "import scipy\n",
    "import random\n",
    "import gc\n",
    "import glob\n",
    "from keras.utils.vis_utils import plot_model\n"
   ]
  },
  {
   "cell_type": "code",
   "execution_count": 90,
   "metadata": {},
   "outputs": [],
   "source": [
    "#Read in CSV FER2013 data.\n",
    "data = pd.read_csv('/com.docker.devenvironments.code/fer2013/icml_face_data.csv')"
   ]
  },
  {
   "cell_type": "code",
   "execution_count": 91,
   "metadata": {},
   "outputs": [],
   "source": [
    "#Split data by image data and emotion label.\n",
    "pixel_data = data[' pixels']\n",
    "label_data = data['emotion']"
   ]
  },
  {
   "cell_type": "code",
   "execution_count": 92,
   "metadata": {},
   "outputs": [
    {
     "data": {
      "text/plain": [
       "35887"
      ]
     },
     "execution_count": 92,
     "metadata": {},
     "output_type": "execute_result"
    }
   ],
   "source": [
    "#Check length of labels to give total images in dataset.\n",
    "len(label_data)"
   ]
  },
  {
   "cell_type": "code",
   "execution_count": 93,
   "metadata": {},
   "outputs": [],
   "source": [
    "#Preproccess pixels so CSV data can be generated into an image.\n",
    "def preprocess_pixels(pixel_data):\n",
    "  images = []\n",
    "  for i in range(len(pixel_data)):\n",
    "    img = np.fromstring(pixel_data[i], dtype='int', sep=' ')\n",
    "    img = img.reshape(48,48,1)\n",
    "    images.append(img)\n",
    "\n",
    "  X = np.array(images)\n",
    "  return X\n",
    "\n"
   ]
  },
  {
   "cell_type": "code",
   "execution_count": 94,
   "metadata": {},
   "outputs": [],
   "source": [
    "#Oversampler which duplicates images within the categories containing less images, provides unbiased training.\n",
    "oversampler = RandomOverSampler(sampling_strategy='auto')\n",
    "\n",
    "X_over, Y_over = oversampler.fit_resample(pixel_data.values.reshape(-1,1), label_data)"
   ]
  },
  {
   "cell_type": "code",
   "execution_count": 95,
   "metadata": {},
   "outputs": [
    {
     "data": {
      "text/plain": [
       "0        70 80 82 72 58 58 60 63 54 58 60 48 89 115 121...\n",
       "1        151 150 147 155 148 133 111 140 170 174 182 15...\n",
       "2        231 212 156 164 174 138 161 173 182 200 106 38...\n",
       "3        24 32 36 30 32 23 19 20 30 41 21 22 32 34 21 1...\n",
       "4        4 0 0 0 0 0 0 0 0 0 0 0 3 15 23 28 48 50 58 84...\n",
       "                               ...                        \n",
       "62918    146 147 147 147 148 140 135 149 161 165 161 10...\n",
       "62919    21 13 4 1 3 12 24 44 57 62 55 59 60 72 106 115...\n",
       "62920    20 16 11 11 11 7 5 35 34 40 40 50 74 100 119 1...\n",
       "62921    68 67 67 71 74 79 84 78 68 56 42 36 43 55 54 6...\n",
       "62922    6 7 12 28 48 61 61 39 29 62 67 74 112 124 99 1...\n",
       "Length: 62923, dtype: object"
      ]
     },
     "execution_count": 95,
     "metadata": {},
     "output_type": "execute_result"
    }
   ],
   "source": [
    "X_over_series = pd.Series(X_over.flatten())\n",
    "X_over_series"
   ]
  },
  {
   "cell_type": "code",
   "execution_count": 96,
   "metadata": {},
   "outputs": [],
   "source": [
    "X = preprocess_pixels(X_over_series)\n",
    "Y = Y_over"
   ]
  },
  {
   "cell_type": "code",
   "execution_count": 97,
   "metadata": {},
   "outputs": [
    {
     "data": {
      "text/plain": [
       "(62923, 1)"
      ]
     },
     "execution_count": 97,
     "metadata": {},
     "output_type": "execute_result"
    }
   ],
   "source": [
    "Y = Y_over.values.reshape(Y.shape[0],1)\n",
    "Y.shape"
   ]
  },
  {
   "cell_type": "code",
   "execution_count": 98,
   "metadata": {},
   "outputs": [
    {
     "name": "stdout",
     "output_type": "stream",
     "text": [
      "(56630, 48, 48, 1) (56630, 1)\n"
     ]
    }
   ],
   "source": [
    "#Split data.\n",
    "X_train, X_test, Y_train, Y_test = train_test_split(X, Y, test_size = 0.1, random_state = 45)\n",
    "print(X_train.shape, Y_train.shape)"
   ]
  },
  {
   "cell_type": "code",
   "execution_count": 99,
   "metadata": {},
   "outputs": [
    {
     "data": {
      "text/plain": [
       "<matplotlib.image.AxesImage at 0x7f30bb5256a0>"
      ]
     },
     "execution_count": 99,
     "metadata": {},
     "output_type": "execute_result"
    },
    {
     "data": {
      "image/png": "[encoded data removed]",
      "text/plain": [
       "<Figure size 432x288 with 1 Axes>"
      ]
     },
     "metadata": {
      "needs_background": "light"
     },
     "output_type": "display_data"
    }
   ],
   "source": [
    "#Test that image generation works from CSV data.\n",
    "plt.imshow(X[25000,:,:,0])"
   ]
  },
  {
   "cell_type": "code",
   "execution_count": 100,
   "metadata": {},
   "outputs": [],
   "source": [
    "#Set data to be categorical, with 7 categories.\n",
    "y_train = to_categorical(Y_train, num_classes=7)\n",
    "y_test = to_categorical(Y_test, num_classes=7)\n"
   ]
  },
  {
   "cell_type": "code",
   "execution_count": 101,
   "metadata": {},
   "outputs": [],
   "source": [
    "#Define what each label is based upon it's assigned number in CSV.\n",
    "label_dict = {0 : 'Angry', 1 : 'Disgust', 2 : 'Fear', 3 : 'Happiness', 4 : 'Sad', 5 : 'Surprise', 6 : 'Neutral'}\n"
   ]
  },
  {
   "cell_type": "code",
   "execution_count": 102,
   "metadata": {},
   "outputs": [],
   "source": [
    "#Load each model ready to test.\n",
    "model = load_model('Original Model')\n",
    "model2 = load_model('ResNet-HardCode')\n",
    "model3 = load_model('ResNet-HardCode2')\n",
    "model4 = load_model('ResNet-HardCode3')\n",
    "model5 = load_model('Original Improved NO RESNET')"
   ]
  },
  {
   "cell_type": "code",
   "execution_count": 103,
   "metadata": {},
   "outputs": [],
   "source": [
    "#Prediction function that is passed image data for each model.\n",
    "preds = model.predict(X_train)\n",
    "def get_class(preds):\n",
    "  pred_class = np.zeros((preds.shape[0],1))\n",
    "\n",
    "  for i in range(len(preds)):\n",
    "   pred_class[i] = np.argmax(preds[i])\n",
    "\n",
    "  return pred_class\n",
    "\n",
    "pred_class_train = get_class(preds)"
   ]
  },
  {
   "cell_type": "code",
   "execution_count": 104,
   "metadata": {},
   "outputs": [
    {
     "name": "stdout",
     "output_type": "stream",
     "text": [
      "Original Model - Prediction\n",
      "The predicted emotion is : Neutral\n"
     ]
    },
    {
     "name": "stderr",
     "output_type": "stream",
     "text": [
      "/home/vscode/.local/lib/python3.7/site-packages/keras_preprocessing/image/utils.py:107: UserWarning: grayscale is deprecated. Please use color_mode = \"grayscale\"\n",
      "  warnings.warn('grayscale is deprecated. Please use '\n"
     ]
    },
    {
     "name": "stdout",
     "output_type": "stream",
     "text": [
      "25/25 [==============================] - 7s 265ms/step - loss: 0.8991 - accuracy: 0.8161\n",
      "Original Model - testing loss, testing acc [0.8990946412086487, 0.8161449432373047]\n"
     ]
    },
    {
     "data": {
      "image/png": "[encoded data removed]",
      "text/plain": [
       "<Figure size 432x288 with 1 Axes>"
      ]
     },
     "metadata": {
      "needs_background": "light"
     },
     "output_type": "display_data"
    }
   ],
   "source": [
    "#Pull random image from Image file, test it on each model.\n",
    "test_image_count = len(os.listdir('/com.docker.devenvironments.code/fer2013/RandomImages'))\n",
    "print('Original Model - Prediction')\n",
    "\n",
    "test_image = random.choice(os.listdir('/com.docker.devenvironments.code/fer2013/RandomImages'))\n",
    "\n",
    "img_path = ('/com.docker.devenvironments.code/fer2013/RandomImages/' + test_image)\n",
    "img = image.load_img(img_path, grayscale=True, target_size=(48,48,1))\n",
    "\n",
    "x = image.img_to_array(img)\n",
    "x = np.expand_dims(x, axis=0)\n",
    "\n",
    "prediction = np.argmax(model.predict(x))\n",
    "print('The predicted emotion is : ' + label_dict[prediction])\n",
    "my_image = image.load_img(img_path)\n",
    "plt.imshow(my_image)\n",
    "\n",
    "#Evaluate model, giving testing loss and accuracy, on a batch of 256 random inputs.\n",
    "results = model.evaluate(X_test, y_test, batch_size = 256)\n",
    "print(\"Original Model - testing loss, testing acc\",results)"
   ]
  },
  {
   "cell_type": "code",
   "execution_count": 105,
   "metadata": {},
   "outputs": [],
   "source": [
    "preds = model2.predict(X_train)\n",
    "def get_class(preds):\n",
    "  pred_class = np.zeros((preds.shape[0],1))\n",
    "\n",
    "  for i in range(len(preds)):\n",
    "   pred_class[i] = np.argmax(preds[i])\n",
    "\n",
    "  return pred_class\n",
    "\n",
    "pred_class_train = get_class(preds)"
   ]
  },
  {
   "cell_type": "code",
   "execution_count": 106,
   "metadata": {},
   "outputs": [
    {
     "name": "stdout",
     "output_type": "stream",
     "text": [
      "ResNet-50 Model Manually Coded With CSV Input - Prediction\n",
      "The predicted emotion is : Surprise\n",
      "25/25 [==============================] - 13s 498ms/step - loss: 0.9737 - accuracy: 0.7858\n",
      "ResNet-50 Manually Coded With CSV Input - testing loss, testing acc [0.9737499952316284, 0.7857937216758728]\n"
     ]
    },
    {
     "data": {
      "image/png": "[encoded data removed]",
      "text/plain": [
       "<Figure size 432x288 with 1 Axes>"
      ]
     },
     "metadata": {
      "needs_background": "light"
     },
     "output_type": "display_data"
    }
   ],
   "source": [
    "test_image_count = len(os.listdir('/com.docker.devenvironments.code/fer2013/RandomImages'))\n",
    "print('ResNet-50 Model Manually Coded With CSV Input - Prediction')\n",
    "\n",
    "test_image = random.choice(os.listdir('/com.docker.devenvironments.code/fer2013/RandomImages'))\n",
    "\n",
    "img_path = ('/com.docker.devenvironments.code/fer2013/RandomImages/' + test_image)\n",
    "img = image.load_img(img_path, grayscale=True, target_size=(48,48,1))\n",
    "\n",
    "x = image.img_to_array(img)\n",
    "x = np.expand_dims(x, axis=0)\n",
    "\n",
    "prediction = np.argmax(model2.predict(x))\n",
    "print('The predicted emotion is : ' + label_dict[prediction])\n",
    "my_image = image.load_img(img_path)\n",
    "plt.imshow(my_image)\n",
    "\n",
    "results = model2.evaluate(X_test, y_test, batch_size = 256)\n",
    "print(\"ResNet-50 Manually Coded With CSV Input - testing loss, testing acc\",results)"
   ]
  },
  {
   "cell_type": "code",
   "execution_count": 107,
   "metadata": {},
   "outputs": [],
   "source": [
    "preds = model3.predict(X_train)\n",
    "def get_class(preds):\n",
    "  pred_class = np.zeros((preds.shape[0],1))\n",
    "\n",
    "  for i in range(len(preds)):\n",
    "   pred_class[i] = np.argmax(preds[i])\n",
    "\n",
    "  return pred_class\n",
    "\n",
    "pred_class_train = get_class(preds)"
   ]
  },
  {
   "cell_type": "code",
   "execution_count": 108,
   "metadata": {},
   "outputs": [
    {
     "name": "stdout",
     "output_type": "stream",
     "text": [
      "ResNet-50 Model Manually Coded With CSV Input (1st Fix) - Prediction\n",
      "The predicted emotion is : Sad\n",
      "25/25 [==============================] - 17s 545ms/step - loss: 0.8854 - accuracy: 0.7842\n",
      "ResNet-50 Manually Coded With CSV Input (1st Fix) - testing loss, testing acc [0.8853749632835388, 0.7842046618461609]\n"
     ]
    },
    {
     "data": {
      "image/png": "[encoded data removed]",
      "text/plain": [
       "<Figure size 432x288 with 1 Axes>"
      ]
     },
     "metadata": {
      "needs_background": "light"
     },
     "output_type": "display_data"
    }
   ],
   "source": [
    "test_image_count = len(os.listdir('/com.docker.devenvironments.code/fer2013/RandomImages'))\n",
    "print('ResNet-50 Model Manually Coded With CSV Input (1st Fix) - Prediction')\n",
    "\n",
    "test_image = random.choice(os.listdir('/com.docker.devenvironments.code/fer2013/RandomImages'))\n",
    "\n",
    "img_path = ('/com.docker.devenvironments.code/fer2013/RandomImages/' + test_image)\n",
    "img = image.load_img(img_path, grayscale=True, target_size=(48,48,1))\n",
    "\n",
    "x = image.img_to_array(img)\n",
    "x = np.expand_dims(x, axis=0)\n",
    "\n",
    "prediction = np.argmax(model3.predict(x))\n",
    "print('The predicted emotion is : ' + label_dict[prediction])\n",
    "my_image = image.load_img(img_path)\n",
    "plt.imshow(my_image)\n",
    "\n",
    "results = model3.evaluate(X_test, y_test, batch_size = 256)\n",
    "print(\"ResNet-50 Manually Coded With CSV Input (1st Fix) - testing loss, testing acc\",results)"
   ]
  },
  {
   "cell_type": "code",
   "execution_count": 109,
   "metadata": {},
   "outputs": [],
   "source": [
    "preds = model4.predict(X_train)\n",
    "def get_class(preds):\n",
    "  pred_class = np.zeros((preds.shape[0],1))\n",
    "\n",
    "  for i in range(len(preds)):\n",
    "   pred_class[i] = np.argmax(preds[i])\n",
    "\n",
    "  return pred_class\n",
    "\n",
    "pred_class_train = get_class(preds)"
   ]
  },
  {
   "cell_type": "code",
   "execution_count": 110,
   "metadata": {},
   "outputs": [
    {
     "name": "stdout",
     "output_type": "stream",
     "text": [
      "ResNet-50 Model Manually Coded With CSV Input (2nd Fix) - Prediction\n",
      "The predicted emotion is : Happiness\n",
      "25/25 [==============================] - 10s 376ms/step - loss: 0.9158 - accuracy: 0.7682\n",
      "ResNet-50 Manually Coded With CSV Input (2nd Fix) - testing loss, testing acc [0.915766179561615, 0.7681550979614258]\n"
     ]
    },
    {
     "data": {
      "image/png": "[encoded data removed]",
      "text/plain": [
       "<Figure size 432x288 with 1 Axes>"
      ]
     },
     "metadata": {
      "needs_background": "light"
     },
     "output_type": "display_data"
    }
   ],
   "source": [
    "test_image_count = len(os.listdir('/com.docker.devenvironments.code/fer2013/RandomImages'))\n",
    "print('ResNet-50 Model Manually Coded With CSV Input (2nd Fix) - Prediction')\n",
    "\n",
    "test_image = random.choice(os.listdir('/com.docker.devenvironments.code/fer2013/RandomImages'))\n",
    "\n",
    "img_path = ('/com.docker.devenvironments.code/fer2013/RandomImages/' + test_image)\n",
    "img = image.load_img(img_path, grayscale=True, target_size=(48,48,1))\n",
    "\n",
    "x = image.img_to_array(img)\n",
    "x = np.expand_dims(x, axis=0)\n",
    "\n",
    "prediction = np.argmax(model4.predict(x))\n",
    "print('The predicted emotion is : ' + label_dict[prediction])\n",
    "my_image = image.load_img(img_path)\n",
    "plt.imshow(my_image)\n",
    "\n",
    "results = model4.evaluate(X_test, y_test, batch_size = 256)\n",
    "print(\"ResNet-50 Manually Coded With CSV Input (2nd Fix) - testing loss, testing acc\",results)"
   ]
  },
  {
   "cell_type": "code",
   "execution_count": 111,
   "metadata": {},
   "outputs": [],
   "source": [
    "preds = model5.predict(X_train)\n",
    "def get_class(preds):\n",
    "  pred_class = np.zeros((preds.shape[0],1))\n",
    "\n",
    "  for i in range(len(preds)):\n",
    "   pred_class[i] = np.argmax(preds[i])\n",
    "\n",
    "  return pred_class\n",
    "\n",
    "pred_class_train = get_class(preds)"
   ]
  },
  {
   "cell_type": "code",
   "execution_count": 112,
   "metadata": {},
   "outputs": [
    {
     "name": "stdout",
     "output_type": "stream",
     "text": [
      "Final Attempt at Improving Original Model - Prediction\n",
      "The predicted emotion is : Sad\n",
      "25/25 [==============================] - 5s 196ms/step - loss: 0.7448 - accuracy: 0.7281\n",
      "Final Attempt at Improving Original Model - testing loss, testing acc [0.744829535484314, 0.7281106114387512]\n"
     ]
    },
    {
     "data": {
      "image/png": "[encoded data removed]",
      "text/plain": [
       "<Figure size 432x288 with 1 Axes>"
      ]
     },
     "metadata": {
      "needs_background": "light"
     },
     "output_type": "display_data"
    }
   ],
   "source": [
    "test_image_count = len(os.listdir('/com.docker.devenvironments.code/fer2013/RandomImages'))\n",
    "print('Final Attempt at Improving Original Model - Prediction')\n",
    "\n",
    "test_image = random.choice(os.listdir('/com.docker.devenvironments.code/fer2013/RandomImages'))\n",
    "\n",
    "img_path = ('/com.docker.devenvironments.code/fer2013/RandomImages/' + test_image)\n",
    "img = image.load_img(img_path, grayscale=True, target_size=(48,48,1))\n",
    "\n",
    "x = image.img_to_array(img)\n",
    "x = np.expand_dims(x, axis=0)\n",
    "\n",
    "prediction = np.argmax(model5.predict(x))\n",
    "print('The predicted emotion is : ' + label_dict[prediction])\n",
    "my_image = image.load_img(img_path)\n",
    "plt.imshow(my_image)\n",
    "\n",
    "results = model5.evaluate(X_test, y_test, batch_size = 256)\n",
    "print(\"Final Attempt at Improving Original Model - testing loss, testing acc\",results)"
   ]
  }
 ],
 "metadata": {
  "interpreter": {
   "hash": "31f2aee4e71d21fbe5cf8b01ff0e069b9275f58929596ceb00d14d90e3e16cd6"
  },
  "kernelspec": {
   "display_name": "Python 3.7.3 64-bit",
   "language": "python",
   "name": "python3"
  },
  "language_info": {
   "codemirror_mode": {
    "name": "ipython",
    "version": 3
   },
   "file_extension": ".py",
   "mimetype": "text/x-python",
   "name": "python",
   "nbconvert_exporter": "python",
   "pygments_lexer": "ipython3",
   "version": "3.7.3"
  },
  "orig_nbformat": 4
 },
 "nbformat": 4,
 "nbformat_minor": 2
}
